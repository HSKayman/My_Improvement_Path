{
 "cells": [
  {
   "cell_type": "code",
   "execution_count": 1,
   "metadata": {},
   "outputs": [],
   "source": [
    "import numpy as np\n",
    "import matplotlib.pyplot as plt\n",
    "% matplotlib inline\n",
    "plt.rcParams[\"savefig.dpi\"] = 300\n",
    "plt.rcParams[\"savefig.bbox\"] = \"tight\"\n",
    "np.set_printoptions(precision=3, suppress=True)\n",
    "import pandas as pd\n",
    "from sklearn.model_selection import train_test_split, cross_val_score\n",
    "from sklearn.pipeline import make_pipeline\n",
    "from sklearn.preprocessing import scale, StandardScaler"
   ]
  },
  {
   "cell_type": "markdown",
   "metadata": {},
   "source": [
    "### Step 1: Import the dataset\n",
    "- Import breast cancer dataset using `from sklearn.datasets import load_breast_cancer`\n",
    "- Check the shape of the dataset and the feature names"
   ]
  },
  {
   "cell_type": "code",
   "execution_count": null,
   "metadata": {},
   "outputs": [],
   "source": []
  },
  {
   "cell_type": "markdown",
   "metadata": {},
   "source": [
    "### Step 2: PCA\n",
    "- Instintiate PCA for 2 components\n",
    "- Fit and transform the data set\n",
    "- Create a scatter plot of the two components"
   ]
  },
  {
   "cell_type": "code",
   "execution_count": null,
   "metadata": {},
   "outputs": [],
   "source": []
  },
  {
   "cell_type": "markdown",
   "metadata": {},
   "source": [
    "### Step 3: PCA with scaling\n",
    "- Repeat Step 2 after you sclae the dataset. You may crteate a pipeline of a scaler and a PCA."
   ]
  },
  {
   "cell_type": "code",
   "execution_count": null,
   "metadata": {},
   "outputs": [],
   "source": []
  },
  {
   "cell_type": "markdown",
   "metadata": {},
   "source": [
    "### Step 4: PCA and LogisticRegression\n",
    "- Split the dataset into train and test datasets\n",
    "- Instintiate a logistic regression model, fit on the train dataset and get the accuracy for both train and test datasets\n",
    "- Create a pipeline of scaler, PCA, and logistic regression\n",
    "- Report the score for the train and test datasets for the reduced model\n"
   ]
  },
  {
   "cell_type": "code",
   "execution_count": null,
   "metadata": {},
   "outputs": [],
   "source": []
  },
  {
   "cell_type": "markdown",
   "metadata": {},
   "source": [
    "### Step 5: Plot PCA components\n",
    "- Create a pipeline of a standard scaler and PCA\n",
    "- fit the pipeline on the train dataset\n",
    "- Plot the PCA's explained variance ratio for each additional component"
   ]
  },
  {
   "cell_type": "code",
   "execution_count": null,
   "metadata": {},
   "outputs": [],
   "source": []
  },
  {
   "cell_type": "markdown",
   "metadata": {},
   "source": [
    "### Step 6: PCA and Logistic Regression -again\n",
    "- Create a pipeline of a scaler, PCA with the best number of components from Step-5, and a logistic regressor\n",
    "- Fit the pipeline on the train dataset and report both the train and the test data set scores\n",
    "- Fit a scaled logistic regression withut PCa\n",
    "- Compare the coefficients you obtain from inverse PCA and the coefficients you receive without PCA"
   ]
  }
 ],
 "metadata": {
  "kernelspec": {
   "display_name": "Python 3 (ipykernel)",
   "language": "python",
   "name": "python3"
  },
  "language_info": {
   "codemirror_mode": {
    "name": "ipython",
    "version": 3
   },
   "file_extension": ".py",
   "mimetype": "text/x-python",
   "name": "python",
   "nbconvert_exporter": "python",
   "pygments_lexer": "ipython3",
   "version": "3.8.5"
  }
 },
 "nbformat": 4,
 "nbformat_minor": 4
}
