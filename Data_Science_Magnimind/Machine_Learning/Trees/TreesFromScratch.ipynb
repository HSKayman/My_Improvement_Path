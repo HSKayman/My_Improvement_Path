{
 "cells": [
  {
   "cell_type": "code",
   "execution_count": 2,
   "metadata": {},
   "outputs": [],
   "source": [
    "import numpy as np\n",
    "import pandas as pd\n",
    "from collections import Counter"
   ]
  },
  {
   "cell_type": "code",
   "execution_count": 37,
   "metadata": {},
   "outputs": [
    {
     "data": {
      "text/html": [
       "<div>\n",
       "<style scoped>\n",
       "    .dataframe tbody tr th:only-of-type {\n",
       "        vertical-align: middle;\n",
       "    }\n",
       "\n",
       "    .dataframe tbody tr th {\n",
       "        vertical-align: top;\n",
       "    }\n",
       "\n",
       "    .dataframe thead th {\n",
       "        text-align: right;\n",
       "    }\n",
       "</style>\n",
       "<table border=\"1\" class=\"dataframe\">\n",
       "  <thead>\n",
       "    <tr style=\"text-align: right;\">\n",
       "      <th></th>\n",
       "      <th>outlook</th>\n",
       "      <th>temp</th>\n",
       "      <th>humidity</th>\n",
       "      <th>windy</th>\n",
       "      <th>play</th>\n",
       "    </tr>\n",
       "  </thead>\n",
       "  <tbody>\n",
       "    <tr>\n",
       "      <th>0</th>\n",
       "      <td>sunny</td>\n",
       "      <td>hot</td>\n",
       "      <td>high</td>\n",
       "      <td>False</td>\n",
       "      <td>no</td>\n",
       "    </tr>\n",
       "    <tr>\n",
       "      <th>1</th>\n",
       "      <td>sunny</td>\n",
       "      <td>hot</td>\n",
       "      <td>high</td>\n",
       "      <td>True</td>\n",
       "      <td>no</td>\n",
       "    </tr>\n",
       "    <tr>\n",
       "      <th>2</th>\n",
       "      <td>overcast</td>\n",
       "      <td>hot</td>\n",
       "      <td>high</td>\n",
       "      <td>False</td>\n",
       "      <td>yes</td>\n",
       "    </tr>\n",
       "    <tr>\n",
       "      <th>3</th>\n",
       "      <td>rainy</td>\n",
       "      <td>mild</td>\n",
       "      <td>high</td>\n",
       "      <td>False</td>\n",
       "      <td>yes</td>\n",
       "    </tr>\n",
       "    <tr>\n",
       "      <th>4</th>\n",
       "      <td>rainy</td>\n",
       "      <td>cool</td>\n",
       "      <td>normal</td>\n",
       "      <td>False</td>\n",
       "      <td>yes</td>\n",
       "    </tr>\n",
       "    <tr>\n",
       "      <th>5</th>\n",
       "      <td>rainy</td>\n",
       "      <td>cool</td>\n",
       "      <td>normal</td>\n",
       "      <td>True</td>\n",
       "      <td>no</td>\n",
       "    </tr>\n",
       "    <tr>\n",
       "      <th>6</th>\n",
       "      <td>overcast</td>\n",
       "      <td>cool</td>\n",
       "      <td>normal</td>\n",
       "      <td>True</td>\n",
       "      <td>yes</td>\n",
       "    </tr>\n",
       "    <tr>\n",
       "      <th>7</th>\n",
       "      <td>sunny</td>\n",
       "      <td>mild</td>\n",
       "      <td>high</td>\n",
       "      <td>False</td>\n",
       "      <td>no</td>\n",
       "    </tr>\n",
       "    <tr>\n",
       "      <th>8</th>\n",
       "      <td>sunny</td>\n",
       "      <td>cool</td>\n",
       "      <td>normal</td>\n",
       "      <td>False</td>\n",
       "      <td>yes</td>\n",
       "    </tr>\n",
       "    <tr>\n",
       "      <th>9</th>\n",
       "      <td>rainy</td>\n",
       "      <td>mild</td>\n",
       "      <td>normal</td>\n",
       "      <td>False</td>\n",
       "      <td>yes</td>\n",
       "    </tr>\n",
       "    <tr>\n",
       "      <th>10</th>\n",
       "      <td>sunny</td>\n",
       "      <td>mild</td>\n",
       "      <td>normal</td>\n",
       "      <td>True</td>\n",
       "      <td>yes</td>\n",
       "    </tr>\n",
       "    <tr>\n",
       "      <th>11</th>\n",
       "      <td>overcast</td>\n",
       "      <td>mild</td>\n",
       "      <td>high</td>\n",
       "      <td>True</td>\n",
       "      <td>yes</td>\n",
       "    </tr>\n",
       "    <tr>\n",
       "      <th>12</th>\n",
       "      <td>overcast</td>\n",
       "      <td>hot</td>\n",
       "      <td>normal</td>\n",
       "      <td>False</td>\n",
       "      <td>yes</td>\n",
       "    </tr>\n",
       "    <tr>\n",
       "      <th>13</th>\n",
       "      <td>rainy</td>\n",
       "      <td>mild</td>\n",
       "      <td>high</td>\n",
       "      <td>True</td>\n",
       "      <td>no</td>\n",
       "    </tr>\n",
       "  </tbody>\n",
       "</table>\n",
       "</div>"
      ],
      "text/plain": [
       "     outlook  temp humidity  windy play\n",
       "0      sunny   hot     high  False   no\n",
       "1      sunny   hot     high   True   no\n",
       "2   overcast   hot     high  False  yes\n",
       "3      rainy  mild     high  False  yes\n",
       "4      rainy  cool   normal  False  yes\n",
       "5      rainy  cool   normal   True   no\n",
       "6   overcast  cool   normal   True  yes\n",
       "7      sunny  mild     high  False   no\n",
       "8      sunny  cool   normal  False  yes\n",
       "9      rainy  mild   normal  False  yes\n",
       "10     sunny  mild   normal   True  yes\n",
       "11  overcast  mild     high   True  yes\n",
       "12  overcast   hot   normal  False  yes\n",
       "13     rainy  mild     high   True   no"
      ]
     },
     "execution_count": 37,
     "metadata": {},
     "output_type": "execute_result"
    }
   ],
   "source": [
    "data = {\n",
    "    'outlook': ['sunny', 'sunny', 'overcast', 'rainy', 'rainy', 'rainy', 'overcast', 'sunny', 'sunny', 'rainy', 'sunny', 'overcast', 'overcast', 'rainy'],\n",
    "    'temp':    ['hot'  , 'hot'  , 'hot'     , 'mild', 'cool', 'cool', 'cool', 'mild', 'cool', 'mild', 'mild', 'mild', 'hot', 'mild'],\n",
    "    'humidity': ['high', 'high', 'high', 'high', 'normal', 'normal', 'normal', 'high', 'normal', 'normal', 'normal', 'high', 'normal', 'high'],\n",
    "    'windy': [False, True, False, False, False, True, True, False, False, False, True, True, False, True],\n",
    "    'play': ['no', 'no', 'yes', 'yes', 'yes', 'no', 'yes', 'no', 'yes', 'yes', 'yes', 'yes', 'yes', 'no']\n",
    "}\n",
    "df = pd.DataFrame(data)\n",
    "df"
   ]
  },
  {
   "cell_type": "code",
   "execution_count": 4,
   "metadata": {},
   "outputs": [
    {
     "data": {
      "text/plain": [
       "[[2, 1, 0, 0, 0],\n",
       " [2, 1, 0, 1, 0],\n",
       " [0, 1, 0, 0, 1],\n",
       " [1, 2, 0, 0, 1],\n",
       " [1, 0, 1, 0, 1],\n",
       " [1, 0, 1, 1, 0],\n",
       " [0, 0, 1, 1, 1],\n",
       " [2, 2, 0, 0, 0],\n",
       " [2, 0, 1, 0, 1],\n",
       " [1, 2, 1, 0, 1],\n",
       " [2, 2, 1, 1, 1],\n",
       " [0, 2, 0, 1, 1],\n",
       " [0, 1, 1, 0, 1],\n",
       " [1, 2, 0, 1, 0]]"
      ]
     },
     "execution_count": 4,
     "metadata": {},
     "output_type": "execute_result"
    }
   ],
   "source": [
    "df['outlook'] = df['outlook'].astype('category').cat.codes\n",
    "df['temp'] = df['temp'].astype('category').cat.codes\n",
    "df['humidity'] = df['humidity'].astype('category').cat.codes\n",
    "df['windy'] = df['windy'].astype('category').cat.codes\n",
    "df['play'] = df['play'].astype('category').cat.codes\n",
    "\n",
    "# Convert DataFrame to list of lists\n",
    "dataset = df.values.tolist()\n",
    "dataset"
   ]
  },
  {
   "cell_type": "code",
   "execution_count": 123,
   "metadata": {},
   "outputs": [
    {
     "name": "stdout",
     "output_type": "stream",
     "text": [
      "Encoded DataFrame:\n",
      "    outlook  temp  humidity  windy  play\n",
      "0         2     1         0      0     0\n",
      "1         2     1         0      1     0\n",
      "2         0     1         0      0     1\n",
      "3         1     2         0      0     1\n",
      "4         1     0         1      0     1\n",
      "5         1     0         1      1     0\n",
      "6         0     0         1      1     1\n",
      "7         2     2         0      0     0\n",
      "8         2     0         1      0     1\n",
      "9         1     2         1      0     1\n",
      "10        2     2         1      1     1\n",
      "11        0     2         0      1     1\n",
      "12        0     1         1      0     1\n",
      "13        1     2         0      1     0\n",
      "\n",
      "Encoders:\n",
      "outlook: {0: 'overcast', 1: 'rainy', 2: 'sunny'}\n",
      "temp: {0: 'cool', 1: 'hot', 2: 'mild'}\n",
      "humidity: {0: 'high', 1: 'normal'}\n",
      "windy: {0: False, 1: True}\n",
      "play: {0: 'no', 1: 'yes'}\n"
     ]
    }
   ],
   "source": [
    "encoders = {}\n",
    "for column in df.columns:\n",
    "    df[column] = df[column].astype('category')\n",
    "    encoders[column] = dict(enumerate(df[column].cat.categories))\n",
    "    df[column] = df[column].cat.codes\n",
    "\n",
    "print(\"\\nEncoders:\")\n",
    "for column, mapping in encoders.items():\n",
    "    print(f\"{column}: {mapping}\")"
   ]
  },
  {
   "cell_type": "code",
   "execution_count": 64,
   "metadata": {},
   "outputs": [],
   "source": [
    "def gini_index(groups, classes):\n",
    "    n_instances = sum([len(group) for group in groups])\n",
    "    gini = 0.0\n",
    "    for group in groups:\n",
    "        size = len(group)\n",
    "        if size == 0:\n",
    "            continue\n",
    "        score = 0.0\n",
    "        # Gini index formula = 1 - sum(proportion^2)\n",
    "        for class_val in classes:\n",
    "            p = [row[-1] for row in group].count(class_val) / size\n",
    "            score += p * p\n",
    "        gini += (1.0 - score) * (size / n_instances)\n",
    "    return gini\n",
    "\n",
    "def entropy(column):\n",
    "    counts = Counter(column)\n",
    "    probabilities = [count / len(column) for count in counts.values()]\n",
    "    # Entropy Formula = -sum(p1 * log2(p1) + p2 * log2(p2) + ... + pn * log2(pn))\n",
    "    entropy = -sum(p * np.log2(p) for p in probabilities)\n",
    "    return entropy\n",
    "\n",
    "def information_gain(entropy_parent, entropy_children, weights):\n",
    "    weighted_entropy_children = sum(entropy * weight for entropy, weight in zip(entropy_children, weights))\n",
    "    information_gain = entropy_parent - weighted_entropy_children\n",
    "    return information_gain\n",
    "\n",
    "def calculate_entropy_gini(df):\n",
    "    columns = df.columns[:-1]\n",
    "    classes = df[df.columns[-1]].unique()\n",
    "    main_entropy = entropy(df[df.columns[-1]])\n",
    "    entropy_dict = {}\n",
    "    gini_dict = {}\n",
    "    information_gains = {}\n",
    "\n",
    "    # Calculate entropy and Gini index for each feature\n",
    "    for column in columns:\n",
    "        entropy_dict[column] = entropy(df[column])\n",
    "        groups = df.groupby(column)\n",
    "        gini_dict[column] = gini_index([groups.get_group(x).values.tolist() for x in groups.groups], classes)\n",
    "    \n",
    "    # Calculate information gain for each feature\n",
    "    entropy_parent = entropy(df[df.columns[-1]])\n",
    "    for column in columns:\n",
    "        groups = df.groupby(column)\n",
    "        entropy_children = [entropy(df[df[column] == value][df.columns[-1]]) for value in groups.groups]\n",
    "        #print(column, entropy_children)\n",
    "        weights = [df[df[column] == value].shape[0]/len(df) for value in groups.groups]\n",
    "        #print(column, weights)\n",
    "        information_gains[column] = information_gain(entropy_parent, entropy_children, weights)\n",
    "\n",
    "    return information_gains, entropy_dict, gini_dict, main_entropy\n"
   ]
  },
  {
   "cell_type": "code",
   "execution_count": 65,
   "metadata": {},
   "outputs": [
    {
     "name": "stdout",
     "output_type": "stream",
     "text": [
      "Main Entropy: 0.9402859586706311\n",
      "Information gain for each column: {'outlook': 0.24674981977443933, 'temp': 0.02922256565895487, 'humidity': 0.15183550136234159, 'windy': 0.04812703040826949}\n",
      "Gain {'outlook': 0.6935361388961918, 'temp': 0.9110633930116763, 'humidity': 0.7884504573082896, 'windy': 0.8921589282623617}\n",
      "Entropy for each column: {'outlook': 1.5774062828523454, 'temp': 1.5566567074628228, 'humidity': 1.0, 'windy': 0.9852281360342515}\n",
      "Gini index for each column: {'outlook': 0.34285714285714286, 'temp': 0.44047619047619047, 'humidity': 0.3673469387755103, 'windy': 0.42857142857142855}\n"
     ]
    }
   ],
   "source": [
    "information_gains,entropy_dict, gini_dict, main_entropy = calculate_entropy_gini(df)\n",
    "print(\"Main Entropy:\", main_entropy)\n",
    "print(\"Information gain for each column:\", information_gains)\n",
    "print(\"Gain\",{k: main_entropy - v for k, v in information_gains.items()})\n",
    "print(\"Entropy for each column:\", entropy_dict)\n",
    "print(\"Gini index for each column:\", gini_dict)"
   ]
  },
  {
   "cell_type": "code",
   "execution_count": 74,
   "metadata": {},
   "outputs": [],
   "source": [
    "def print_step_info(node, df):\n",
    "    information_gains, entropies, ginis, __ = calculate_entropy_gini(df)\n",
    "    print(\"Step Information:\")\n",
    "    print(\"Splitting on feature {} with value {}\".format(node['index'], node['value']))\n",
    "    print(\"Information Gains:\", information_gains)\n",
    "    print(\"Entropies:\", entropies)\n",
    "    print(\"Gini Indices:\", ginis)\n",
    "    print(\"x\"*50)"
   ]
  },
  {
   "cell_type": "code",
   "execution_count": 139,
   "metadata": {},
   "outputs": [],
   "source": [
    "def build_tree(train, max_depth, min_size,columns,target):\n",
    "    columns.append(target)\n",
    "    root = get_split(train,columns)\n",
    "    split(root, max_depth, min_size, 1,columns)\n",
    "    return root\n",
    "\n",
    "def get_split(dataset,columns):\n",
    "    class_values = list(set(row[-1] for row in dataset))\n",
    "    best_index, best_value, best_score, best_groups = -1, -1, 99999, None\n",
    "    df = pd.DataFrame(dataset, columns=columns)\n",
    "    for index in range(len(dataset[0])-1):\n",
    "        for row in dataset:\n",
    "            groups = group_split(index, row[index], dataset)\n",
    "            gini = gini_index(groups, class_values)\n",
    "            if gini < best_score:\n",
    "                best_index, best_value, best_score, best_groups = index, row[index], gini, groups\n",
    "    node = {'index': best_index, 'value': best_value, 'groups': best_groups, 'best_score': best_score}\n",
    "    print_step_info(node, df)\n",
    "    return node\n",
    "\n",
    "def group_split(index, value, dataset):\n",
    "    left, right = [], []\n",
    "    for row in dataset:\n",
    "        if row[index] < value:\n",
    "            left.append(row)\n",
    "        else:\n",
    "            right.append(row)\n",
    "    return left, right\n",
    "\n",
    "def root_(group):\n",
    "    outcomes = [row[-1] for row in group]\n",
    "    return Counter(outcomes).most_common(1)[0][0]\n",
    "\n",
    "def split(node, max_depth, min_size, depth,columns):\n",
    "    left, right = node['groups']\n",
    "    del(node['groups'])\n",
    "    \n",
    "    if not left or not right:\n",
    "        node['left'] = node['right'] = root_(left + right)\n",
    "        return\n",
    "    if depth >= max_depth:\n",
    "        node['left'], node['right'] = root_(left), root_(right)\n",
    "        return\n",
    "    \n",
    "\n",
    "    if len(left) <= min_size:\n",
    "        node['left'] = root_(left)\n",
    "    else:\n",
    "        node['left'] = get_split(left,columns)\n",
    "        split(node['left'], max_depth, min_size, depth+1,columns)\n",
    "\n",
    "    \n",
    "    if len(right) <= min_size:\n",
    "        node['right'] = root_(right)\n",
    "    else:\n",
    "        node['right'] = get_split(right,columns)\n",
    "        split(node['right'], max_depth, min_size, depth+1,columns)\n",
    "    \n",
    "\n",
    "def predict(node, row):\n",
    "    if row[node['index']] < node['value']:\n",
    "        if isinstance(node['left'], dict):\n",
    "            return predict(node['left'], row)\n",
    "        else:\n",
    "            return node['left']\n",
    "    else:\n",
    "        if isinstance(node['right'], dict):\n",
    "            return predict(node['right'], row)\n",
    "        else:\n",
    "            return node['right']\n",
    "\n",
    "def multi_predict(tree,dataset):\n",
    "    return [predict(tree, row) for row in dataset]\n",
    "\n",
    "# Will continue to improve the code\n",
    "def print_tree(node, depth=0, encoders=None):\n",
    "    # if true then go to left else go to right\n",
    "    if isinstance(node, dict):\n",
    "        if encoders:\n",
    "            feature_name = list(encoders.keys())[node['index']]\n",
    "            feature_value = encoders[feature_name][node['value']]\n",
    "            print('{}[{} < {}]'.format(depth*'\\t', feature_name, feature_value))\n",
    "        else:\n",
    "            print('{}[X{} < {}]'.format(depth*'\\t', node['index'], node['value']))\n",
    "        \n",
    "        print_tree(node['left'], depth+1, encoders)\n",
    "        print_tree(node['right'], depth+1, encoders)\n",
    "    else:\n",
    "        if encoders:\n",
    "            print('{}[{}]'.format(depth*'\\t', encoders[list(encoders.keys())[-1]][node]))\n",
    "        else:\n",
    "            print('{}[{}]'.format(depth*'\\t', node))\n"
   ]
  },
  {
   "cell_type": "code",
   "execution_count": 142,
   "metadata": {},
   "outputs": [
    {
     "name": "stdout",
     "output_type": "stream",
     "text": [
      "Step Information:\n",
      "Splitting on feature 0 with value 1\n",
      "Information Gains: {'outlook': 0.24674981977443933, 'temp': 0.02922256565895487, 'humidity': 0.15183550136234159, 'windy': 0.04812703040826949}\n",
      "Entropies: {'outlook': 1.5774062828523454, 'temp': 1.5566567074628228, 'humidity': 1.0, 'windy': 0.9852281360342515}\n",
      "Gini Indices: {'outlook': 0.34285714285714286, 'temp': 0.44047619047619047, 'humidity': 0.3673469387755103, 'windy': 0.42857142857142855}\n",
      "xxxxxxxxxxxxxxxxxxxxxxxxxxxxxxxxxxxxxxxxxxxxxxxxxx\n",
      "Step Information:\n",
      "Splitting on feature 0 with value 0\n",
      "Information Gains: {'outlook': -0.0, 'temp': -0.0, 'humidity': -0.0, 'windy': -0.0}\n",
      "Entropies: {'outlook': -0.0, 'temp': 1.5, 'humidity': 1.0, 'windy': 1.0}\n",
      "Gini Indices: {'outlook': 0.0, 'temp': 0.0, 'humidity': 0.0, 'windy': 0.0}\n",
      "xxxxxxxxxxxxxxxxxxxxxxxxxxxxxxxxxxxxxxxxxxxxxxxxxx\n",
      "Step Information:\n",
      "Splitting on feature 2 with value 1\n",
      "Information Gains: {'outlook': 0.02904940554533142, 'temp': 0.23903595255631882, 'humidity': 0.2780719051126377, 'windy': 0.12451124978365313}\n",
      "Entropies: {'outlook': 1.0, 'temp': 1.4854752972273344, 'humidity': 1.0, 'windy': 0.9709505944546686}\n",
      "Gini Indices: {'outlook': 0.48, 'temp': 0.3733333333333333, 'humidity': 0.31999999999999984, 'windy': 0.4166666666666667}\n",
      "xxxxxxxxxxxxxxxxxxxxxxxxxxxxxxxxxxxxxxxxxxxxxxxxxx\n",
      "Step Information:\n",
      "Splitting on feature 0 with value 2\n",
      "Information Gains: {'outlook': 0.3219280948873623, 'temp': 0.17095059445466865, 'humidity': 0.0, 'windy': 0.17095059445466865}\n",
      "Entropies: {'outlook': 0.9709505944546686, 'temp': 0.9709505944546686, 'humidity': -0.0, 'windy': 0.9709505944546686}\n",
      "Gini Indices: {'outlook': 0.2, 'temp': 0.26666666666666666, 'humidity': 0.31999999999999984, 'windy': 0.26666666666666666}\n",
      "xxxxxxxxxxxxxxxxxxxxxxxxxxxxxxxxxxxxxxxxxxxxxxxxxx\n",
      "Step Information:\n",
      "Splitting on feature 3 with value 1\n",
      "Information Gains: {'outlook': 0.17095059445466865, 'temp': 0.17095059445466865, 'humidity': 0.0, 'windy': 0.3219280948873623}\n",
      "Entropies: {'outlook': 0.9709505944546686, 'temp': 0.9709505944546686, 'humidity': -0.0, 'windy': 0.9709505944546686}\n",
      "Gini Indices: {'outlook': 0.26666666666666666, 'temp': 0.26666666666666666, 'humidity': 0.31999999999999984, 'windy': 0.2}\n",
      "xxxxxxxxxxxxxxxxxxxxxxxxxxxxxxxxxxxxxxxxxxxxxxxxxx\n",
      "Accuracy: 85.71%\n"
     ]
    }
   ],
   "source": [
    "max_depth = 3\n",
    "min_size = 1\n",
    "columns = df.columns[:-1].to_list()\n",
    "target = df.columns[-1]\n",
    "tree = build_tree(dataset, max_depth, min_size, columns, target)\n",
    "predictions = multi_predict(tree, dataset)\n",
    "actual = [row[-1] for row in dataset]\n",
    "accuracy = sum(1 for i in range(len(actual)) if actual[i] == predictions[i]) / len(actual)\n",
    "print(f'Accuracy: {accuracy * 100:.2f}%')"
   ]
  },
  {
   "cell_type": "code",
   "execution_count": 143,
   "metadata": {},
   "outputs": [
    {
     "name": "stdout",
     "output_type": "stream",
     "text": [
      "\t\t\t[X0 < 1]\n",
      "\t\t\t\t[X0 < 0]\n",
      "\t\t\t\t\t[1]\n",
      "\t\t\n",
      "\t\t\t\t\t[1]\n",
      "\t\t\n",
      "\t\t\t\t[X2 < 1]\n",
      "\t\t\t\t\t[X0 < 2]\n",
      "\t\t\t\t\t\t[1]\n",
      "\t\t\n",
      "\t\t\t\t\t\t[0]\n",
      "\t\t\n",
      "\t\t\t\t\t[X3 < 1]\n",
      "\t\t\t\t\t\t[1]\n",
      "\t\t\n",
      "\t\t\t\t\t\t[0]\n"
     ]
    }
   ],
   "source": [
    "print_tree(tree,3)"
   ]
  },
  {
   "cell_type": "code",
   "execution_count": 144,
   "metadata": {},
   "outputs": [
    {
     "data": {
      "text/plain": [
       "{'outlook': {0: 'overcast', 1: 'rainy', 2: 'sunny'},\n",
       " 'temp': {0: 'cool', 1: 'hot', 2: 'mild'},\n",
       " 'humidity': {0: 'high', 1: 'normal'},\n",
       " 'windy': {0: False, 1: True},\n",
       " 'play': {0: 'no', 1: 'yes'}}"
      ]
     },
     "execution_count": 144,
     "metadata": {},
     "output_type": "execute_result"
    }
   ],
   "source": [
    "encoders"
   ]
  },
  {
   "cell_type": "code",
   "execution_count": 147,
   "metadata": {},
   "outputs": [
    {
     "name": "stdout",
     "output_type": "stream",
     "text": [
      "Accuracy: 100.00%\n"
     ]
    }
   ],
   "source": [
    "from sklearn.tree import DecisionTreeClassifier\n",
    "\"\"\"\n",
    "criterion: Literal['gini', 'entropy', 'log_loss'] = \"gini\",\n",
    "splitter: Literal['best', 'random'] = \"best\",\n",
    "max_depth: Int | None = None,\n",
    "min_samples_split: float | int = 2,\n",
    "min_samples_leaf: float | int = 1,\n",
    "min_weight_fraction_leaf: Float = 0,\n",
    "max_features: float | int | Literal['auto', 'sqrt', 'log2'] | None = None,\n",
    "random_state: Int | None = None,\n",
    "max_leaf_nodes: Int | None = None,\n",
    "min_impurity_decrease: Float = 0,\n",
    "class_weight: Mapping | str | Sequence[Mapping] | None = None,\n",
    "ccp_alpha: float = 0\n",
    "\"\"\"\n",
    "tree = DecisionTreeClassifier(max_depth=3, min_samples_split=2, min_samples_leaf=1)\n",
    "actual = df['play']\n",
    "tree.fit(dataset, actual)\n",
    "predictions = tree.predict(dataset)\n",
    "accuracy = sum(1 for i in range(len(actual)) if actual[i] == predictions[i]) / len(actual)\n",
    "print(f'Accuracy: {accuracy * 100:.2f}%')\n"
   ]
  },
  {
   "cell_type": "code",
   "execution_count": 153,
   "metadata": {},
   "outputs": [
    {
     "ename": "TypeError",
     "evalue": "'dict_values' object is not subscriptable",
     "output_type": "error",
     "traceback": [
      "\u001b[1;31m---------------------------------------------------------------------------\u001b[0m",
      "\u001b[1;31mTypeError\u001b[0m                                 Traceback (most recent call last)",
      "Cell \u001b[1;32mIn[153], line 5\u001b[0m\n\u001b[0;32m      2\u001b[0m \u001b[38;5;28;01mimport\u001b[39;00m \u001b[38;5;21;01mmatplotlib\u001b[39;00m\u001b[38;5;21;01m.\u001b[39;00m\u001b[38;5;21;01mpyplot\u001b[39;00m \u001b[38;5;28;01mas\u001b[39;00m \u001b[38;5;21;01mplt\u001b[39;00m\n\u001b[0;32m      4\u001b[0m plt\u001b[38;5;241m.\u001b[39mfigure(figsize\u001b[38;5;241m=\u001b[39m(\u001b[38;5;241m10\u001b[39m, \u001b[38;5;241m8\u001b[39m))\n\u001b[1;32m----> 5\u001b[0m \u001b[43mplot_tree\u001b[49m\u001b[43m(\u001b[49m\u001b[43mtree\u001b[49m\u001b[43m,\u001b[49m\u001b[43m \u001b[49m\u001b[43mfeature_names\u001b[49m\u001b[38;5;241;43m=\u001b[39;49m\u001b[43mcolumns\u001b[49m\u001b[43m,\u001b[49m\u001b[43m \u001b[49m\u001b[43mclass_names\u001b[49m\u001b[38;5;241;43m=\u001b[39;49m\u001b[43mmapping\u001b[49m\u001b[38;5;241;43m.\u001b[39;49m\u001b[43mvalues\u001b[49m\u001b[43m(\u001b[49m\u001b[43m)\u001b[49m\u001b[43m,\u001b[49m\u001b[43m \u001b[49m\u001b[43mfilled\u001b[49m\u001b[38;5;241;43m=\u001b[39;49m\u001b[38;5;28;43;01mTrue\u001b[39;49;00m\u001b[43m)\u001b[49m\n\u001b[0;32m      6\u001b[0m plt\u001b[38;5;241m.\u001b[39mshow()\n",
      "File \u001b[1;32m~\\AppData\\Local\\Packages\\PythonSoftwareFoundation.Python.3.10_qbz5n2kfra8p0\\LocalCache\\local-packages\\Python310\\site-packages\\sklearn\\utils\\_param_validation.py:213\u001b[0m, in \u001b[0;36mvalidate_params.<locals>.decorator.<locals>.wrapper\u001b[1;34m(*args, **kwargs)\u001b[0m\n\u001b[0;32m    207\u001b[0m \u001b[38;5;28;01mtry\u001b[39;00m:\n\u001b[0;32m    208\u001b[0m     \u001b[38;5;28;01mwith\u001b[39;00m config_context(\n\u001b[0;32m    209\u001b[0m         skip_parameter_validation\u001b[38;5;241m=\u001b[39m(\n\u001b[0;32m    210\u001b[0m             prefer_skip_nested_validation \u001b[38;5;129;01mor\u001b[39;00m global_skip_validation\n\u001b[0;32m    211\u001b[0m         )\n\u001b[0;32m    212\u001b[0m     ):\n\u001b[1;32m--> 213\u001b[0m         \u001b[38;5;28;01mreturn\u001b[39;00m func(\u001b[38;5;241m*\u001b[39margs, \u001b[38;5;241m*\u001b[39m\u001b[38;5;241m*\u001b[39mkwargs)\n\u001b[0;32m    214\u001b[0m \u001b[38;5;28;01mexcept\u001b[39;00m InvalidParameterError \u001b[38;5;28;01mas\u001b[39;00m e:\n\u001b[0;32m    215\u001b[0m     \u001b[38;5;66;03m# When the function is just a wrapper around an estimator, we allow\u001b[39;00m\n\u001b[0;32m    216\u001b[0m     \u001b[38;5;66;03m# the function to delegate validation to the estimator, but we replace\u001b[39;00m\n\u001b[0;32m    217\u001b[0m     \u001b[38;5;66;03m# the name of the estimator by the name of the function in the error\u001b[39;00m\n\u001b[0;32m    218\u001b[0m     \u001b[38;5;66;03m# message to avoid confusion.\u001b[39;00m\n\u001b[0;32m    219\u001b[0m     msg \u001b[38;5;241m=\u001b[39m re\u001b[38;5;241m.\u001b[39msub(\n\u001b[0;32m    220\u001b[0m         \u001b[38;5;124mr\u001b[39m\u001b[38;5;124m\"\u001b[39m\u001b[38;5;124mparameter of \u001b[39m\u001b[38;5;124m\\\u001b[39m\u001b[38;5;124mw+ must be\u001b[39m\u001b[38;5;124m\"\u001b[39m,\n\u001b[0;32m    221\u001b[0m         \u001b[38;5;124mf\u001b[39m\u001b[38;5;124m\"\u001b[39m\u001b[38;5;124mparameter of \u001b[39m\u001b[38;5;132;01m{\u001b[39;00mfunc\u001b[38;5;241m.\u001b[39m\u001b[38;5;18m__qualname__\u001b[39m\u001b[38;5;132;01m}\u001b[39;00m\u001b[38;5;124m must be\u001b[39m\u001b[38;5;124m\"\u001b[39m,\n\u001b[0;32m    222\u001b[0m         \u001b[38;5;28mstr\u001b[39m(e),\n\u001b[0;32m    223\u001b[0m     )\n",
      "File \u001b[1;32m~\\AppData\\Local\\Packages\\PythonSoftwareFoundation.Python.3.10_qbz5n2kfra8p0\\LocalCache\\local-packages\\Python310\\site-packages\\sklearn\\tree\\_export.py:211\u001b[0m, in \u001b[0;36mplot_tree\u001b[1;34m(decision_tree, max_depth, feature_names, class_names, label, filled, impurity, node_ids, proportion, rounded, precision, ax, fontsize)\u001b[0m\n\u001b[0;32m    196\u001b[0m check_is_fitted(decision_tree)\n\u001b[0;32m    198\u001b[0m exporter \u001b[38;5;241m=\u001b[39m _MPLTreeExporter(\n\u001b[0;32m    199\u001b[0m     max_depth\u001b[38;5;241m=\u001b[39mmax_depth,\n\u001b[0;32m    200\u001b[0m     feature_names\u001b[38;5;241m=\u001b[39mfeature_names,\n\u001b[1;32m   (...)\u001b[0m\n\u001b[0;32m    209\u001b[0m     fontsize\u001b[38;5;241m=\u001b[39mfontsize,\n\u001b[0;32m    210\u001b[0m )\n\u001b[1;32m--> 211\u001b[0m \u001b[38;5;28;01mreturn\u001b[39;00m \u001b[43mexporter\u001b[49m\u001b[38;5;241;43m.\u001b[39;49m\u001b[43mexport\u001b[49m\u001b[43m(\u001b[49m\u001b[43mdecision_tree\u001b[49m\u001b[43m,\u001b[49m\u001b[43m \u001b[49m\u001b[43max\u001b[49m\u001b[38;5;241;43m=\u001b[39;49m\u001b[43max\u001b[49m\u001b[43m)\u001b[49m\n",
      "File \u001b[1;32m~\\AppData\\Local\\Packages\\PythonSoftwareFoundation.Python.3.10_qbz5n2kfra8p0\\LocalCache\\local-packages\\Python310\\site-packages\\sklearn\\tree\\_export.py:644\u001b[0m, in \u001b[0;36m_MPLTreeExporter.export\u001b[1;34m(self, decision_tree, ax)\u001b[0m\n\u001b[0;32m    642\u001b[0m ax\u001b[38;5;241m.\u001b[39mclear()\n\u001b[0;32m    643\u001b[0m ax\u001b[38;5;241m.\u001b[39mset_axis_off()\n\u001b[1;32m--> 644\u001b[0m my_tree \u001b[38;5;241m=\u001b[39m \u001b[38;5;28;43mself\u001b[39;49m\u001b[38;5;241;43m.\u001b[39;49m\u001b[43m_make_tree\u001b[49m\u001b[43m(\u001b[49m\u001b[38;5;241;43m0\u001b[39;49m\u001b[43m,\u001b[49m\u001b[43m \u001b[49m\u001b[43mdecision_tree\u001b[49m\u001b[38;5;241;43m.\u001b[39;49m\u001b[43mtree_\u001b[49m\u001b[43m,\u001b[49m\u001b[43m \u001b[49m\u001b[43mdecision_tree\u001b[49m\u001b[38;5;241;43m.\u001b[39;49m\u001b[43mcriterion\u001b[49m\u001b[43m)\u001b[49m\n\u001b[0;32m    645\u001b[0m draw_tree \u001b[38;5;241m=\u001b[39m buchheim(my_tree)\n\u001b[0;32m    647\u001b[0m \u001b[38;5;66;03m# important to make sure we're still\u001b[39;00m\n\u001b[0;32m    648\u001b[0m \u001b[38;5;66;03m# inside the axis after drawing the box\u001b[39;00m\n\u001b[0;32m    649\u001b[0m \u001b[38;5;66;03m# this makes sense because the width of a box\u001b[39;00m\n\u001b[0;32m    650\u001b[0m \u001b[38;5;66;03m# is about the same as the distance between boxes\u001b[39;00m\n",
      "File \u001b[1;32m~\\AppData\\Local\\Packages\\PythonSoftwareFoundation.Python.3.10_qbz5n2kfra8p0\\LocalCache\\local-packages\\Python310\\site-packages\\sklearn\\tree\\_export.py:620\u001b[0m, in \u001b[0;36m_MPLTreeExporter._make_tree\u001b[1;34m(self, node_id, et, criterion, depth)\u001b[0m\n\u001b[0;32m    617\u001b[0m \u001b[38;5;28;01mdef\u001b[39;00m \u001b[38;5;21m_make_tree\u001b[39m(\u001b[38;5;28mself\u001b[39m, node_id, et, criterion, depth\u001b[38;5;241m=\u001b[39m\u001b[38;5;241m0\u001b[39m):\n\u001b[0;32m    618\u001b[0m     \u001b[38;5;66;03m# traverses _tree.Tree recursively, builds intermediate\u001b[39;00m\n\u001b[0;32m    619\u001b[0m     \u001b[38;5;66;03m# \"_reingold_tilford.Tree\" object\u001b[39;00m\n\u001b[1;32m--> 620\u001b[0m     name \u001b[38;5;241m=\u001b[39m \u001b[38;5;28;43mself\u001b[39;49m\u001b[38;5;241;43m.\u001b[39;49m\u001b[43mnode_to_str\u001b[49m\u001b[43m(\u001b[49m\u001b[43met\u001b[49m\u001b[43m,\u001b[49m\u001b[43m \u001b[49m\u001b[43mnode_id\u001b[49m\u001b[43m,\u001b[49m\u001b[43m \u001b[49m\u001b[43mcriterion\u001b[49m\u001b[38;5;241;43m=\u001b[39;49m\u001b[43mcriterion\u001b[49m\u001b[43m)\u001b[49m\n\u001b[0;32m    621\u001b[0m     \u001b[38;5;28;01mif\u001b[39;00m et\u001b[38;5;241m.\u001b[39mchildren_left[node_id] \u001b[38;5;241m!=\u001b[39m _tree\u001b[38;5;241m.\u001b[39mTREE_LEAF \u001b[38;5;129;01mand\u001b[39;00m (\n\u001b[0;32m    622\u001b[0m         \u001b[38;5;28mself\u001b[39m\u001b[38;5;241m.\u001b[39mmax_depth \u001b[38;5;129;01mis\u001b[39;00m \u001b[38;5;28;01mNone\u001b[39;00m \u001b[38;5;129;01mor\u001b[39;00m depth \u001b[38;5;241m<\u001b[39m\u001b[38;5;241m=\u001b[39m \u001b[38;5;28mself\u001b[39m\u001b[38;5;241m.\u001b[39mmax_depth\n\u001b[0;32m    623\u001b[0m     ):\n\u001b[0;32m    624\u001b[0m         children \u001b[38;5;241m=\u001b[39m [\n\u001b[0;32m    625\u001b[0m             \u001b[38;5;28mself\u001b[39m\u001b[38;5;241m.\u001b[39m_make_tree(\n\u001b[0;32m    626\u001b[0m                 et\u001b[38;5;241m.\u001b[39mchildren_left[node_id], et, criterion, depth\u001b[38;5;241m=\u001b[39mdepth \u001b[38;5;241m+\u001b[39m \u001b[38;5;241m1\u001b[39m\n\u001b[1;32m   (...)\u001b[0m\n\u001b[0;32m    630\u001b[0m             ),\n\u001b[0;32m    631\u001b[0m         ]\n",
      "File \u001b[1;32m~\\AppData\\Local\\Packages\\PythonSoftwareFoundation.Python.3.10_qbz5n2kfra8p0\\LocalCache\\local-packages\\Python310\\site-packages\\sklearn\\tree\\_export.py:386\u001b[0m, in \u001b[0;36m_BaseTreeExporter.node_to_str\u001b[1;34m(self, tree, node_id, criterion)\u001b[0m\n\u001b[0;32m    384\u001b[0m     node_string \u001b[38;5;241m+\u001b[39m\u001b[38;5;241m=\u001b[39m \u001b[38;5;124m\"\u001b[39m\u001b[38;5;124mclass = \u001b[39m\u001b[38;5;124m\"\u001b[39m\n\u001b[0;32m    385\u001b[0m \u001b[38;5;28;01mif\u001b[39;00m \u001b[38;5;28mself\u001b[39m\u001b[38;5;241m.\u001b[39mclass_names \u001b[38;5;129;01mis\u001b[39;00m \u001b[38;5;129;01mnot\u001b[39;00m \u001b[38;5;28;01mTrue\u001b[39;00m:\n\u001b[1;32m--> 386\u001b[0m     class_name \u001b[38;5;241m=\u001b[39m \u001b[38;5;28;43mself\u001b[39;49m\u001b[38;5;241;43m.\u001b[39;49m\u001b[43mclass_names\u001b[49m\u001b[43m[\u001b[49m\u001b[43mnp\u001b[49m\u001b[38;5;241;43m.\u001b[39;49m\u001b[43margmax\u001b[49m\u001b[43m(\u001b[49m\u001b[43mvalue\u001b[49m\u001b[43m)\u001b[49m\u001b[43m]\u001b[49m\n\u001b[0;32m    387\u001b[0m \u001b[38;5;28;01melse\u001b[39;00m:\n\u001b[0;32m    388\u001b[0m     class_name \u001b[38;5;241m=\u001b[39m \u001b[38;5;124m\"\u001b[39m\u001b[38;5;124my\u001b[39m\u001b[38;5;132;01m%s\u001b[39;00m\u001b[38;5;132;01m%s\u001b[39;00m\u001b[38;5;132;01m%s\u001b[39;00m\u001b[38;5;124m\"\u001b[39m \u001b[38;5;241m%\u001b[39m (\n\u001b[0;32m    389\u001b[0m         characters[\u001b[38;5;241m1\u001b[39m],\n\u001b[0;32m    390\u001b[0m         np\u001b[38;5;241m.\u001b[39margmax(value),\n\u001b[0;32m    391\u001b[0m         characters[\u001b[38;5;241m2\u001b[39m],\n\u001b[0;32m    392\u001b[0m     )\n",
      "\u001b[1;31mTypeError\u001b[0m: 'dict_values' object is not subscriptable"
     ]
    },
    {
     "data": {
      "image/png": "[encoded data removed]",
      "text/plain": [
       "<Figure size 1000x800 with 1 Axes>"
      ]
     },
     "metadata": {},
     "output_type": "display_data"
    }
   ],
   "source": [
    "from sklearn.tree import plot_tree\n",
    "import matplotlib.pyplot as plt\n",
    "\n",
    "plt.figure(figsize=(10, 8))\n",
    "plot_tree(tree, feature_names=columns, class_names=mapping.values(), filled=True)\n",
    "plt.show()"
   ]
  },
  {
   "cell_type": "code",
   "execution_count": 154,
   "metadata": {},
   "outputs": [
    {
     "data": {
      "text/plain": [
       "['outlook', 'temp', 'humidity', 'windy', 'play']"
      ]
     },
     "execution_count": 154,
     "metadata": {},
     "output_type": "execute_result"
    }
   ],
   "source": [
    "columns"
   ]
  },
  {
   "cell_type": "code",
   "execution_count": 150,
   "metadata": {},
   "outputs": [
    {
     "data": {
      "text/plain": [
       "{0: 'no', 1: 'yes'}"
      ]
     },
     "execution_count": 150,
     "metadata": {},
     "output_type": "execute_result"
    }
   ],
   "source": [
    "mapping"
   ]
  },
  {
   "cell_type": "code",
   "execution_count": null,
   "metadata": {},
   "outputs": [],
   "source": []
  }
 ],
 "metadata": {
  "kernelspec": {
   "display_name": "Python 3",
   "language": "python",
   "name": "python3"
  },
  "language_info": {
   "codemirror_mode": {
    "name": "ipython",
    "version": 3
   },
   "file_extension": ".py",
   "mimetype": "text/x-python",
   "name": "python",
   "nbconvert_exporter": "python",
   "pygments_lexer": "ipython3",
   "version": "3.10.11"
  }
 },
 "nbformat": 4,
 "nbformat_minor": 4
}
