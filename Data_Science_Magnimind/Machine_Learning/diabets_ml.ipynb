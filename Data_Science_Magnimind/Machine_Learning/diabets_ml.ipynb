{
 "cells": [
  {
   "cell_type": "code",
   "execution_count": 1,
   "id": "9806fbca",
   "metadata": {},
   "outputs": [],
   "source": [
    "# Load the Prima Indians Onset of Diabates dataset. \n",
    "# It is a standard machine learning dataset available \n",
    "# for free download from the UCI Machine Learning repository. \n",
    "# It describes patient medical record data for Pima Indians \n",
    "# and whether they had an onset of diabetes within five years. \n",
    "# It is a binary classification problem (onset of diabetes as 1 or not as 0)\n",
    "\n",
    "# NTP: Number of times pregnant.\n",
    "# PGC: Plasma glucose concentration a 2 hours in an \n",
    "#     oral glucose tolerance test. 3. Diastolic blood pressure (mm Hg).\n",
    "# TSFT: Triceps skin fold thickness (mm).\n",
    "# 2hSI: 2-Hour serum insulin (mu U/ml).\n",
    "# BMI: Body mass index.\n",
    "# DPF: Diabetes pedigree function.\n",
    "# Age: Age (years).\n",
    "# OnDiab: Class, onset of diabetes within five years.\n",
    "# Set the dataset columns names to \n",
    "# ['NTP', 'PGC','DBP','TSFT','2hSI','BMI','DPF','Age','OnDiab'].\n",
    "# Print the size of the data set.\n",
    "# Print the first 10 observations of your data set"
   ]
  },
  {
   "cell_type": "code",
   "execution_count": 3,
   "id": "b5cb8cad",
   "metadata": {},
   "outputs": [
    {
     "data": {
      "text/html": [
       "<div>\n",
       "<style scoped>\n",
       "    .dataframe tbody tr th:only-of-type {\n",
       "        vertical-align: middle;\n",
       "    }\n",
       "\n",
       "    .dataframe tbody tr th {\n",
       "        vertical-align: top;\n",
       "    }\n",
       "\n",
       "    .dataframe thead th {\n",
       "        text-align: right;\n",
       "    }\n",
       "</style>\n",
       "<table border=\"1\" class=\"dataframe\">\n",
       "  <thead>\n",
       "    <tr style=\"text-align: right;\">\n",
       "      <th></th>\n",
       "      <th>NTP</th>\n",
       "      <th>PGC</th>\n",
       "      <th>DBP</th>\n",
       "      <th>TSFT</th>\n",
       "      <th>2hSI</th>\n",
       "      <th>BMI</th>\n",
       "      <th>DPF</th>\n",
       "      <th>Age</th>\n",
       "      <th>OnDiab</th>\n",
       "    </tr>\n",
       "  </thead>\n",
       "  <tbody>\n",
       "    <tr>\n",
       "      <th>0</th>\n",
       "      <td>6</td>\n",
       "      <td>148</td>\n",
       "      <td>72</td>\n",
       "      <td>35</td>\n",
       "      <td>0</td>\n",
       "      <td>33.6</td>\n",
       "      <td>0.627</td>\n",
       "      <td>50</td>\n",
       "      <td>1</td>\n",
       "    </tr>\n",
       "    <tr>\n",
       "      <th>1</th>\n",
       "      <td>1</td>\n",
       "      <td>85</td>\n",
       "      <td>66</td>\n",
       "      <td>29</td>\n",
       "      <td>0</td>\n",
       "      <td>26.6</td>\n",
       "      <td>0.351</td>\n",
       "      <td>31</td>\n",
       "      <td>0</td>\n",
       "    </tr>\n",
       "    <tr>\n",
       "      <th>2</th>\n",
       "      <td>8</td>\n",
       "      <td>183</td>\n",
       "      <td>64</td>\n",
       "      <td>0</td>\n",
       "      <td>0</td>\n",
       "      <td>23.3</td>\n",
       "      <td>0.672</td>\n",
       "      <td>32</td>\n",
       "      <td>1</td>\n",
       "    </tr>\n",
       "    <tr>\n",
       "      <th>3</th>\n",
       "      <td>1</td>\n",
       "      <td>89</td>\n",
       "      <td>66</td>\n",
       "      <td>23</td>\n",
       "      <td>94</td>\n",
       "      <td>28.1</td>\n",
       "      <td>0.167</td>\n",
       "      <td>21</td>\n",
       "      <td>0</td>\n",
       "    </tr>\n",
       "    <tr>\n",
       "      <th>4</th>\n",
       "      <td>0</td>\n",
       "      <td>137</td>\n",
       "      <td>40</td>\n",
       "      <td>35</td>\n",
       "      <td>168</td>\n",
       "      <td>43.1</td>\n",
       "      <td>2.288</td>\n",
       "      <td>33</td>\n",
       "      <td>1</td>\n",
       "    </tr>\n",
       "    <tr>\n",
       "      <th>...</th>\n",
       "      <td>...</td>\n",
       "      <td>...</td>\n",
       "      <td>...</td>\n",
       "      <td>...</td>\n",
       "      <td>...</td>\n",
       "      <td>...</td>\n",
       "      <td>...</td>\n",
       "      <td>...</td>\n",
       "      <td>...</td>\n",
       "    </tr>\n",
       "    <tr>\n",
       "      <th>763</th>\n",
       "      <td>10</td>\n",
       "      <td>101</td>\n",
       "      <td>76</td>\n",
       "      <td>48</td>\n",
       "      <td>180</td>\n",
       "      <td>32.9</td>\n",
       "      <td>0.171</td>\n",
       "      <td>63</td>\n",
       "      <td>0</td>\n",
       "    </tr>\n",
       "    <tr>\n",
       "      <th>764</th>\n",
       "      <td>2</td>\n",
       "      <td>122</td>\n",
       "      <td>70</td>\n",
       "      <td>27</td>\n",
       "      <td>0</td>\n",
       "      <td>36.8</td>\n",
       "      <td>0.340</td>\n",
       "      <td>27</td>\n",
       "      <td>0</td>\n",
       "    </tr>\n",
       "    <tr>\n",
       "      <th>765</th>\n",
       "      <td>5</td>\n",
       "      <td>121</td>\n",
       "      <td>72</td>\n",
       "      <td>23</td>\n",
       "      <td>112</td>\n",
       "      <td>26.2</td>\n",
       "      <td>0.245</td>\n",
       "      <td>30</td>\n",
       "      <td>0</td>\n",
       "    </tr>\n",
       "    <tr>\n",
       "      <th>766</th>\n",
       "      <td>1</td>\n",
       "      <td>126</td>\n",
       "      <td>60</td>\n",
       "      <td>0</td>\n",
       "      <td>0</td>\n",
       "      <td>30.1</td>\n",
       "      <td>0.349</td>\n",
       "      <td>47</td>\n",
       "      <td>1</td>\n",
       "    </tr>\n",
       "    <tr>\n",
       "      <th>767</th>\n",
       "      <td>1</td>\n",
       "      <td>93</td>\n",
       "      <td>70</td>\n",
       "      <td>31</td>\n",
       "      <td>0</td>\n",
       "      <td>30.4</td>\n",
       "      <td>0.315</td>\n",
       "      <td>23</td>\n",
       "      <td>0</td>\n",
       "    </tr>\n",
       "  </tbody>\n",
       "</table>\n",
       "<p>768 rows × 9 columns</p>\n",
       "</div>"
      ],
      "text/plain": [
       "     NTP  PGC  DBP  TSFT  2hSI   BMI    DPF  Age  OnDiab\n",
       "0      6  148   72    35     0  33.6  0.627   50       1\n",
       "1      1   85   66    29     0  26.6  0.351   31       0\n",
       "2      8  183   64     0     0  23.3  0.672   32       1\n",
       "3      1   89   66    23    94  28.1  0.167   21       0\n",
       "4      0  137   40    35   168  43.1  2.288   33       1\n",
       "..   ...  ...  ...   ...   ...   ...    ...  ...     ...\n",
       "763   10  101   76    48   180  32.9  0.171   63       0\n",
       "764    2  122   70    27     0  36.8  0.340   27       0\n",
       "765    5  121   72    23   112  26.2  0.245   30       0\n",
       "766    1  126   60     0     0  30.1  0.349   47       1\n",
       "767    1   93   70    31     0  30.4  0.315   23       0\n",
       "\n",
       "[768 rows x 9 columns]"
      ]
     },
     "execution_count": 3,
     "metadata": {},
     "output_type": "execute_result"
    }
   ],
   "source": [
    "import pandas as pd\n",
    "df = pd.read_csv(\"diabetes.csv\", header=None)\n",
    "df.columns = ['NTP', 'PGC','DBP','TSFT','2hSI','BMI','DPF','Age','OnDiab']\n",
    "df"
   ]
  },
  {
   "cell_type": "code",
   "execution_count": 4,
   "id": "59fac382",
   "metadata": {},
   "outputs": [
    {
     "data": {
      "text/html": [
       "<div>\n",
       "<style scoped>\n",
       "    .dataframe tbody tr th:only-of-type {\n",
       "        vertical-align: middle;\n",
       "    }\n",
       "\n",
       "    .dataframe tbody tr th {\n",
       "        vertical-align: top;\n",
       "    }\n",
       "\n",
       "    .dataframe thead th {\n",
       "        text-align: right;\n",
       "    }\n",
       "</style>\n",
       "<table border=\"1\" class=\"dataframe\">\n",
       "  <thead>\n",
       "    <tr style=\"text-align: right;\">\n",
       "      <th></th>\n",
       "      <th>NTP</th>\n",
       "      <th>PGC</th>\n",
       "      <th>DBP</th>\n",
       "      <th>TSFT</th>\n",
       "      <th>2hSI</th>\n",
       "      <th>BMI</th>\n",
       "      <th>DPF</th>\n",
       "      <th>Age</th>\n",
       "      <th>OnDiab</th>\n",
       "    </tr>\n",
       "  </thead>\n",
       "  <tbody>\n",
       "    <tr>\n",
       "      <th>0</th>\n",
       "      <td>6</td>\n",
       "      <td>148</td>\n",
       "      <td>72</td>\n",
       "      <td>35</td>\n",
       "      <td>0</td>\n",
       "      <td>33.6</td>\n",
       "      <td>0.627</td>\n",
       "      <td>50</td>\n",
       "      <td>1</td>\n",
       "    </tr>\n",
       "    <tr>\n",
       "      <th>1</th>\n",
       "      <td>1</td>\n",
       "      <td>85</td>\n",
       "      <td>66</td>\n",
       "      <td>29</td>\n",
       "      <td>0</td>\n",
       "      <td>26.6</td>\n",
       "      <td>0.351</td>\n",
       "      <td>31</td>\n",
       "      <td>0</td>\n",
       "    </tr>\n",
       "    <tr>\n",
       "      <th>2</th>\n",
       "      <td>8</td>\n",
       "      <td>183</td>\n",
       "      <td>64</td>\n",
       "      <td>0</td>\n",
       "      <td>0</td>\n",
       "      <td>23.3</td>\n",
       "      <td>0.672</td>\n",
       "      <td>32</td>\n",
       "      <td>1</td>\n",
       "    </tr>\n",
       "    <tr>\n",
       "      <th>3</th>\n",
       "      <td>1</td>\n",
       "      <td>89</td>\n",
       "      <td>66</td>\n",
       "      <td>23</td>\n",
       "      <td>94</td>\n",
       "      <td>28.1</td>\n",
       "      <td>0.167</td>\n",
       "      <td>21</td>\n",
       "      <td>0</td>\n",
       "    </tr>\n",
       "    <tr>\n",
       "      <th>4</th>\n",
       "      <td>0</td>\n",
       "      <td>137</td>\n",
       "      <td>40</td>\n",
       "      <td>35</td>\n",
       "      <td>168</td>\n",
       "      <td>43.1</td>\n",
       "      <td>2.288</td>\n",
       "      <td>33</td>\n",
       "      <td>1</td>\n",
       "    </tr>\n",
       "    <tr>\n",
       "      <th>5</th>\n",
       "      <td>5</td>\n",
       "      <td>116</td>\n",
       "      <td>74</td>\n",
       "      <td>0</td>\n",
       "      <td>0</td>\n",
       "      <td>25.6</td>\n",
       "      <td>0.201</td>\n",
       "      <td>30</td>\n",
       "      <td>0</td>\n",
       "    </tr>\n",
       "    <tr>\n",
       "      <th>6</th>\n",
       "      <td>3</td>\n",
       "      <td>78</td>\n",
       "      <td>50</td>\n",
       "      <td>32</td>\n",
       "      <td>88</td>\n",
       "      <td>31.0</td>\n",
       "      <td>0.248</td>\n",
       "      <td>26</td>\n",
       "      <td>1</td>\n",
       "    </tr>\n",
       "    <tr>\n",
       "      <th>7</th>\n",
       "      <td>10</td>\n",
       "      <td>115</td>\n",
       "      <td>0</td>\n",
       "      <td>0</td>\n",
       "      <td>0</td>\n",
       "      <td>35.3</td>\n",
       "      <td>0.134</td>\n",
       "      <td>29</td>\n",
       "      <td>0</td>\n",
       "    </tr>\n",
       "    <tr>\n",
       "      <th>8</th>\n",
       "      <td>2</td>\n",
       "      <td>197</td>\n",
       "      <td>70</td>\n",
       "      <td>45</td>\n",
       "      <td>543</td>\n",
       "      <td>30.5</td>\n",
       "      <td>0.158</td>\n",
       "      <td>53</td>\n",
       "      <td>1</td>\n",
       "    </tr>\n",
       "    <tr>\n",
       "      <th>9</th>\n",
       "      <td>8</td>\n",
       "      <td>125</td>\n",
       "      <td>96</td>\n",
       "      <td>0</td>\n",
       "      <td>0</td>\n",
       "      <td>0.0</td>\n",
       "      <td>0.232</td>\n",
       "      <td>54</td>\n",
       "      <td>1</td>\n",
       "    </tr>\n",
       "  </tbody>\n",
       "</table>\n",
       "</div>"
      ],
      "text/plain": [
       "   NTP  PGC  DBP  TSFT  2hSI   BMI    DPF  Age  OnDiab\n",
       "0    6  148   72    35     0  33.6  0.627   50       1\n",
       "1    1   85   66    29     0  26.6  0.351   31       0\n",
       "2    8  183   64     0     0  23.3  0.672   32       1\n",
       "3    1   89   66    23    94  28.1  0.167   21       0\n",
       "4    0  137   40    35   168  43.1  2.288   33       1\n",
       "5    5  116   74     0     0  25.6  0.201   30       0\n",
       "6    3   78   50    32    88  31.0  0.248   26       1\n",
       "7   10  115    0     0     0  35.3  0.134   29       0\n",
       "8    2  197   70    45   543  30.5  0.158   53       1\n",
       "9    8  125   96     0     0   0.0  0.232   54       1"
      ]
     },
     "execution_count": 4,
     "metadata": {},
     "output_type": "execute_result"
    }
   ],
   "source": [
    "df.head(10)"
   ]
  },
  {
   "cell_type": "code",
   "execution_count": 5,
   "id": "1b379192",
   "metadata": {},
   "outputs": [],
   "source": [
    "# Print the data type for each attribute using dtypes method of a pandas data \n",
    "# frame. Descriptive statistics can give you great insight into the properties \n",
    "# of each attribute. Often you can create more summaries than you have time \n",
    "# to review. The describe() function on the Pandas DataFrame lists 8 statistical\n",
    "# properties of each attribute. They are: Count, Mean, Standard Deviation, \n",
    "#     Minimum Value, 25th Percentile, 50th Percentile (Median), 75th Percentile,\n",
    "#     Maximum Value.\n",
    "# On classication problems you need to know how balanced the \n",
    "# class values are. Highly imbalanced problems (a lot more observations \n",
    "#                                               for one class than another) \n",
    "# are common and may need special handling in the data preparation stage of \n",
    "# your project. You can quickly get an idea of the distribution of the OnDiab \n",
    "# attribute in Pandas. Grup your data by OnDiab attribute and use the size \n",
    "# method to count the number of different values of class attribute."
   ]
  },
  {
   "cell_type": "code",
   "execution_count": 6,
   "id": "19ca3d5a",
   "metadata": {},
   "outputs": [
    {
     "data": {
      "text/plain": [
       "NTP         int64\n",
       "PGC         int64\n",
       "DBP         int64\n",
       "TSFT        int64\n",
       "2hSI        int64\n",
       "BMI       float64\n",
       "DPF       float64\n",
       "Age         int64\n",
       "OnDiab      int64\n",
       "dtype: object"
      ]
     },
     "execution_count": 6,
     "metadata": {},
     "output_type": "execute_result"
    }
   ],
   "source": [
    "df.dtypes"
   ]
  },
  {
   "cell_type": "code",
   "execution_count": 8,
   "id": "96e5bfb5",
   "metadata": {},
   "outputs": [
    {
     "data": {
      "text/html": [
       "<div>\n",
       "<style scoped>\n",
       "    .dataframe tbody tr th:only-of-type {\n",
       "        vertical-align: middle;\n",
       "    }\n",
       "\n",
       "    .dataframe tbody tr th {\n",
       "        vertical-align: top;\n",
       "    }\n",
       "\n",
       "    .dataframe thead th {\n",
       "        text-align: right;\n",
       "    }\n",
       "</style>\n",
       "<table border=\"1\" class=\"dataframe\">\n",
       "  <thead>\n",
       "    <tr style=\"text-align: right;\">\n",
       "      <th></th>\n",
       "      <th>count</th>\n",
       "      <th>mean</th>\n",
       "      <th>std</th>\n",
       "      <th>min</th>\n",
       "      <th>25%</th>\n",
       "      <th>50%</th>\n",
       "      <th>75%</th>\n",
       "      <th>max</th>\n",
       "    </tr>\n",
       "  </thead>\n",
       "  <tbody>\n",
       "    <tr>\n",
       "      <th>NTP</th>\n",
       "      <td>768.0</td>\n",
       "      <td>3.845052</td>\n",
       "      <td>3.369578</td>\n",
       "      <td>0.000</td>\n",
       "      <td>1.00000</td>\n",
       "      <td>3.0000</td>\n",
       "      <td>6.00000</td>\n",
       "      <td>17.00</td>\n",
       "    </tr>\n",
       "    <tr>\n",
       "      <th>PGC</th>\n",
       "      <td>768.0</td>\n",
       "      <td>120.894531</td>\n",
       "      <td>31.972618</td>\n",
       "      <td>0.000</td>\n",
       "      <td>99.00000</td>\n",
       "      <td>117.0000</td>\n",
       "      <td>140.25000</td>\n",
       "      <td>199.00</td>\n",
       "    </tr>\n",
       "    <tr>\n",
       "      <th>DBP</th>\n",
       "      <td>768.0</td>\n",
       "      <td>69.105469</td>\n",
       "      <td>19.355807</td>\n",
       "      <td>0.000</td>\n",
       "      <td>62.00000</td>\n",
       "      <td>72.0000</td>\n",
       "      <td>80.00000</td>\n",
       "      <td>122.00</td>\n",
       "    </tr>\n",
       "    <tr>\n",
       "      <th>TSFT</th>\n",
       "      <td>768.0</td>\n",
       "      <td>20.536458</td>\n",
       "      <td>15.952218</td>\n",
       "      <td>0.000</td>\n",
       "      <td>0.00000</td>\n",
       "      <td>23.0000</td>\n",
       "      <td>32.00000</td>\n",
       "      <td>99.00</td>\n",
       "    </tr>\n",
       "    <tr>\n",
       "      <th>2hSI</th>\n",
       "      <td>768.0</td>\n",
       "      <td>79.799479</td>\n",
       "      <td>115.244002</td>\n",
       "      <td>0.000</td>\n",
       "      <td>0.00000</td>\n",
       "      <td>30.5000</td>\n",
       "      <td>127.25000</td>\n",
       "      <td>846.00</td>\n",
       "    </tr>\n",
       "    <tr>\n",
       "      <th>BMI</th>\n",
       "      <td>768.0</td>\n",
       "      <td>31.992578</td>\n",
       "      <td>7.884160</td>\n",
       "      <td>0.000</td>\n",
       "      <td>27.30000</td>\n",
       "      <td>32.0000</td>\n",
       "      <td>36.60000</td>\n",
       "      <td>67.10</td>\n",
       "    </tr>\n",
       "    <tr>\n",
       "      <th>DPF</th>\n",
       "      <td>768.0</td>\n",
       "      <td>0.471876</td>\n",
       "      <td>0.331329</td>\n",
       "      <td>0.078</td>\n",
       "      <td>0.24375</td>\n",
       "      <td>0.3725</td>\n",
       "      <td>0.62625</td>\n",
       "      <td>2.42</td>\n",
       "    </tr>\n",
       "    <tr>\n",
       "      <th>Age</th>\n",
       "      <td>768.0</td>\n",
       "      <td>33.240885</td>\n",
       "      <td>11.760232</td>\n",
       "      <td>21.000</td>\n",
       "      <td>24.00000</td>\n",
       "      <td>29.0000</td>\n",
       "      <td>41.00000</td>\n",
       "      <td>81.00</td>\n",
       "    </tr>\n",
       "    <tr>\n",
       "      <th>OnDiab</th>\n",
       "      <td>768.0</td>\n",
       "      <td>0.348958</td>\n",
       "      <td>0.476951</td>\n",
       "      <td>0.000</td>\n",
       "      <td>0.00000</td>\n",
       "      <td>0.0000</td>\n",
       "      <td>1.00000</td>\n",
       "      <td>1.00</td>\n",
       "    </tr>\n",
       "  </tbody>\n",
       "</table>\n",
       "</div>"
      ],
      "text/plain": [
       "        count        mean         std     min       25%       50%        75%  \\\n",
       "NTP     768.0    3.845052    3.369578   0.000   1.00000    3.0000    6.00000   \n",
       "PGC     768.0  120.894531   31.972618   0.000  99.00000  117.0000  140.25000   \n",
       "DBP     768.0   69.105469   19.355807   0.000  62.00000   72.0000   80.00000   \n",
       "TSFT    768.0   20.536458   15.952218   0.000   0.00000   23.0000   32.00000   \n",
       "2hSI    768.0   79.799479  115.244002   0.000   0.00000   30.5000  127.25000   \n",
       "BMI     768.0   31.992578    7.884160   0.000  27.30000   32.0000   36.60000   \n",
       "DPF     768.0    0.471876    0.331329   0.078   0.24375    0.3725    0.62625   \n",
       "Age     768.0   33.240885   11.760232  21.000  24.00000   29.0000   41.00000   \n",
       "OnDiab  768.0    0.348958    0.476951   0.000   0.00000    0.0000    1.00000   \n",
       "\n",
       "           max  \n",
       "NTP      17.00  \n",
       "PGC     199.00  \n",
       "DBP     122.00  \n",
       "TSFT     99.00  \n",
       "2hSI    846.00  \n",
       "BMI      67.10  \n",
       "DPF       2.42  \n",
       "Age      81.00  \n",
       "OnDiab    1.00  "
      ]
     },
     "execution_count": 8,
     "metadata": {},
     "output_type": "execute_result"
    }
   ],
   "source": [
    "df.describe().T"
   ]
  },
  {
   "cell_type": "code",
   "execution_count": 9,
   "id": "45aef48d",
   "metadata": {},
   "outputs": [
    {
     "data": {
      "text/plain": [
       "OnDiab\n",
       "0    500\n",
       "1    268\n",
       "dtype: int64"
      ]
     },
     "execution_count": 9,
     "metadata": {},
     "output_type": "execute_result"
    }
   ],
   "source": [
    "df.groupby('OnDiab').size()"
   ]
  },
  {
   "cell_type": "code",
   "execution_count": 10,
   "id": "27030c52",
   "metadata": {},
   "outputs": [],
   "source": [
    "# A fast way to get an idea of the distribution of each attribute is to \n",
    "# look at histograms. Histograms group data into bins and provide you a \n",
    "# count of the number of observations in each bin. From the shape of the \n",
    "# bins you can quickly get a feeling for whether an attribute is Gaussian, \n",
    "# skewed or even has an exponential distribution. It can also help you see \n",
    "# possible outliers.\n",
    "\n",
    "# Use hist() method of pandas data frame to plot the histograms."
   ]
  },
  {
   "cell_type": "code",
   "execution_count": 12,
   "id": "8d43e5a4",
   "metadata": {},
   "outputs": [
    {
     "data": {
      "text/plain": [
       "array([[<AxesSubplot:title={'center':'NTP'}>,\n",
       "        <AxesSubplot:title={'center':'PGC'}>,\n",
       "        <AxesSubplot:title={'center':'DBP'}>],\n",
       "       [<AxesSubplot:title={'center':'TSFT'}>,\n",
       "        <AxesSubplot:title={'center':'2hSI'}>,\n",
       "        <AxesSubplot:title={'center':'BMI'}>],\n",
       "       [<AxesSubplot:title={'center':'DPF'}>,\n",
       "        <AxesSubplot:title={'center':'Age'}>,\n",
       "        <AxesSubplot:title={'center':'OnDiab'}>]], dtype=object)"
      ]
     },
     "execution_count": 12,
     "metadata": {},
     "output_type": "execute_result"
    },
    {
     "data": {
      "image/png": "[encoded data removed]",
      "text/plain": [
       "<Figure size 1080x720 with 9 Axes>"
      ]
     },
     "metadata": {
      "needs_background": "light"
     },
     "output_type": "display_data"
    }
   ],
   "source": [
    "df.hist(bins=30, figsize=(15, 10))"
   ]
  },
  {
   "cell_type": "code",
   "execution_count": 14,
   "id": "ed73c471",
   "metadata": {},
   "outputs": [],
   "source": [
    "# Separate your dataset into feature set X and target variable y. Your target \n",
    "# variable is OnDiab. Split your dataset into train and test datasets, keep \n",
    "# the test dataset size as 0.25 using test_size parameter of train_test_split.\n",
    "# Set the random seed top 7 using random_state parameter of train_test_split. \n",
    "# Make a stratified split. Train KNearestNeighbor classifer on your train \n",
    "# dataset and print the score on the the test dataset. Set number of neighbors \n",
    "# to 5."
   ]
  },
  {
   "cell_type": "code",
   "execution_count": 16,
   "id": "d4573b85",
   "metadata": {},
   "outputs": [],
   "source": [
    "from sklearn.model_selection import train_test_split\n",
    "x,y = df.iloc[:,:-1],df.iloc[:,-1]\n",
    "train_x, test_x, train_y, test_y = train_test_split(x,y,test_size=0.25, random_state=7)"
   ]
  },
  {
   "cell_type": "code",
   "execution_count": 18,
   "id": "a066894e",
   "metadata": {},
   "outputs": [
    {
     "data": {
      "text/plain": [
       "0.71875"
      ]
     },
     "execution_count": 18,
     "metadata": {},
     "output_type": "execute_result"
    }
   ],
   "source": [
    "from sklearn.neighbors import KNeighborsClassifier\n",
    "knn = KNeighborsClassifier(n_neighbors=5)\n",
    "knn.fit(train_x, train_y)\n",
    "knn.score(test_x, test_y)"
   ]
  },
  {
   "cell_type": "code",
   "execution_count": 19,
   "id": "15df011c",
   "metadata": {},
   "outputs": [],
   "source": [
    "# Import GridSearchCV from sklearn.model_selection\n",
    "# Split your data into train and test datasets\n",
    "# For neighbors=1 to 30, compute GridSearchCV for train dataset with \n",
    "# kfold=10.\n",
    "# Print the best cross validation score\n",
    "# Print the best parameter\n",
    "# Print the test score"
   ]
  },
  {
   "cell_type": "code",
   "execution_count": 25,
   "id": "f26e60d2",
   "metadata": {},
   "outputs": [
    {
     "data": {
      "text/plain": [
       "GridSearchCV(cv=10, estimator=KNeighborsClassifier(),\n",
       "             param_grid={'n_neighbors': range(1, 31)}, scoring='accuracy')"
      ]
     },
     "execution_count": 25,
     "metadata": {},
     "output_type": "execute_result"
    }
   ],
   "source": [
    "from sklearn import model_selection as ms\n",
    "knn = KNeighborsClassifier()\n",
    "param_grid = {'n_neighbors': range(1, 31)}\n",
    "grid_search = ms.GridSearchCV(estimator=knn, \n",
    "                           param_grid=param_grid, \n",
    "                           cv=10, scoring='accuracy')\n",
    "grid_search.fit(train_x, train_y)"
   ]
  },
  {
   "cell_type": "code",
   "execution_count": 26,
   "id": "0e18f97e",
   "metadata": {},
   "outputs": [
    {
     "data": {
      "text/plain": [
       "0.7622504537205081"
      ]
     },
     "execution_count": 26,
     "metadata": {},
     "output_type": "execute_result"
    }
   ],
   "source": [
    "grid_search.best_score_"
   ]
  },
  {
   "cell_type": "code",
   "execution_count": 27,
   "id": "bef5f74f",
   "metadata": {},
   "outputs": [
    {
     "data": {
      "text/plain": [
       "{'n_neighbors': 14}"
      ]
     },
     "execution_count": 27,
     "metadata": {},
     "output_type": "execute_result"
    }
   ],
   "source": [
    "grid_search.best_params_"
   ]
  },
  {
   "cell_type": "code",
   "execution_count": 29,
   "id": "50998453",
   "metadata": {},
   "outputs": [
    {
     "data": {
      "text/plain": [
       "0.7604166666666666"
      ]
     },
     "execution_count": 29,
     "metadata": {},
     "output_type": "execute_result"
    }
   ],
   "source": [
    "grid_search.best_estimator_.score(test_x, test_y)"
   ]
  },
  {
   "cell_type": "code",
   "execution_count": null,
   "id": "e73c08a0",
   "metadata": {},
   "outputs": [],
   "source": []
  }
 ],
 "metadata": {
  "kernelspec": {
   "display_name": "Python 3 (ipykernel)",
   "language": "python",
   "name": "python3"
  },
  "language_info": {
   "codemirror_mode": {
    "name": "ipython",
    "version": 3
   },
   "file_extension": ".py",
   "mimetype": "text/x-python",
   "name": "python",
   "nbconvert_exporter": "python",
   "pygments_lexer": "ipython3",
   "version": "3.9.12"
  }
 },
 "nbformat": 4,
 "nbformat_minor": 5
}
