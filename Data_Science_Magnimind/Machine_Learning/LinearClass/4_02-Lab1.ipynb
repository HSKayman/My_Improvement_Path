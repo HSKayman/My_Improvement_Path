{
 "cells": [
  {
   "cell_type": "code",
   "execution_count": 2,
   "metadata": {},
   "outputs": [],
   "source": [
    "from sklearn.linear_model import LogisticRegression\n",
    "from sklearn.model_selection import train_test_split\n",
    "from sklearn.preprocessing import StandardScaler\n",
    "from sklearn.datasets import load_digits\n",
    "from sklearn.neighbors import KNeighborsClassifier\n",
    "import numpy as np\n"
   ]
  },
  {
   "cell_type": "markdown",
   "metadata": {},
   "source": [
    "### Steps:\n",
    "- Import digits data set from Scikitlearn datasets library. Use `load_digits()`. When loaded, the dataset comes with `data` and `target` values.\n",
    "- Assign `data` to X and `target` to y\n",
    "- Check the shape of the data\n",
    "- Use `np.bincount` to print the number of uniqe elements of the target vriable `y`\n",
    "- Split data into train and test datasets. Use stratification when splitting. You can set your `random_state` to `42`\n",
    "- Normalize your dataset. When normalizing, simply divide your dataset by the maximum of the train dataset. To find the maximum, use `max("
   ]
  },
  {
   "cell_type": "code",
   "execution_count": 4,
   "metadata": {},
   "outputs": [],
   "source": [
    "data, target = load_digits(return_X_y=True)"
   ]
  },
  {
   "cell_type": "code",
   "execution_count": 5,
   "metadata": {},
   "outputs": [],
   "source": [
    "X,y = data, target"
   ]
  },
  {
   "cell_type": "code",
   "execution_count": 6,
   "metadata": {},
   "outputs": [
    {
     "data": {
      "text/plain": [
       "(1797, 64)"
      ]
     },
     "execution_count": 6,
     "metadata": {},
     "output_type": "execute_result"
    }
   ],
   "source": [
    "X.shape"
   ]
  },
  {
   "cell_type": "code",
   "execution_count": 8,
   "metadata": {},
   "outputs": [
    {
     "data": {
      "text/plain": [
       "(1797,)"
      ]
     },
     "execution_count": 8,
     "metadata": {},
     "output_type": "execute_result"
    }
   ],
   "source": [
    "y.shape"
   ]
  },
  {
   "cell_type": "code",
   "execution_count": 9,
   "metadata": {},
   "outputs": [
    {
     "data": {
      "text/plain": [
       "array([178, 182, 177, 183, 181, 182, 181, 179, 174, 180], dtype=int64)"
      ]
     },
     "execution_count": 9,
     "metadata": {},
     "output_type": "execute_result"
    }
   ],
   "source": [
    "np.bincount(y)"
   ]
  },
  {
   "cell_type": "code",
   "execution_count": 15,
   "metadata": {},
   "outputs": [],
   "source": [
    "X_train, X_test, y_train, y_test = train_test_split(X, y, random_state=42)"
   ]
  },
  {
   "cell_type": "code",
   "execution_count": 19,
   "metadata": {},
   "outputs": [
    {
     "data": {
      "text/plain": [
       "array([ 0.,  8., 16., 16., 16., 16., 16., 15.,  2., 16., 16., 16., 16.,\n",
       "       16., 16., 12.,  2., 16., 16., 16., 16., 16., 16.,  8.,  1., 15.,\n",
       "       16., 16., 16., 16., 15.,  1.,  0., 14., 16., 16., 16., 16., 14.,\n",
       "        0.,  4., 16., 16., 16., 16., 16., 16.,  6.,  8., 16., 16., 16.,\n",
       "       16., 16., 16., 10.,  1.,  7., 16., 16., 16., 16., 16., 16.])"
      ]
     },
     "execution_count": 19,
     "metadata": {},
     "output_type": "execute_result"
    }
   ],
   "source": [
    "X_train.max(axis=0)"
   ]
  },
  {
   "cell_type": "code",
   "execution_count": 21,
   "metadata": {},
   "outputs": [
    {
     "name": "stderr",
     "output_type": "stream",
     "text": [
      "C:\\Users\\hskay\\AppData\\Local\\Temp\\ipykernel_10108\\3575202541.py:1: RuntimeWarning: invalid value encountered in divide\n",
      "  X_train_norm, X_test_norm = X_train / X_train.max(axis=0), X_test / X_test.max(axis=0)\n"
     ]
    }
   ],
   "source": [
    "X_train_norm, X_test_norm = X_train / X_train.max(axis=0), X_test / X_test.max(axis=0)"
   ]
  },
  {
   "cell_type": "code",
   "execution_count": 22,
   "metadata": {},
   "outputs": [
    {
     "data": {
      "text/plain": [
       "array([[   nan, 0.    , 0.125 , ..., 0.    , 0.    , 0.    ],\n",
       "       [   nan, 0.625 , 1.    , ..., 0.375 , 0.0625, 0.    ],\n",
       "       [   nan, 0.    , 0.25  , ..., 0.125 , 0.    , 0.    ],\n",
       "       ...,\n",
       "       [   nan, 0.    , 0.5625, ..., 1.    , 0.125 , 0.    ],\n",
       "       [   nan, 0.    , 0.0625, ..., 0.    , 0.    , 0.    ],\n",
       "       [   nan, 0.    , 0.0625, ..., 0.0625, 0.    , 0.    ]])"
      ]
     },
     "execution_count": 22,
     "metadata": {},
     "output_type": "execute_result"
    }
   ],
   "source": [
    "X_train_norm"
   ]
  },
  {
   "cell_type": "code",
   "execution_count": 24,
   "metadata": {},
   "outputs": [],
   "source": [
    "# fill nan value with 0\n",
    "X_train_norm = np.nan_to_num(X_train_norm)\n",
    "X_test_norm = np.nan_to_num(X_test_norm)"
   ]
  },
  {
   "cell_type": "code",
   "execution_count": 25,
   "metadata": {},
   "outputs": [
    {
     "name": "stdout",
     "output_type": "stream",
     "text": [
      "Logistic Regression:\n",
      "Accuracy: 0.9688888888888889\n",
      "Precision: 0.9697211775878442\n",
      "Recall: 0.9688888888888889\n",
      "F1-score: 0.9690367601641102\n",
      "\n",
      "KNeighborsClassifier:\n",
      "Accuracy: 0.9933333333333333\n",
      "Precision: 0.9933257345491388\n",
      "Recall: 0.9933333333333333\n",
      "F1-score: 0.9933082556240451\n"
     ]
    }
   ],
   "source": [
    "from sklearn.metrics import accuracy_score, precision_score, recall_score, f1_score\n",
    "\n",
    "# Logistic Regression\n",
    "logreg = LogisticRegression()\n",
    "logreg.fit(X_train_norm, y_train)\n",
    "logreg_pred = logreg.predict(X_test_norm)\n",
    "\n",
    "logreg_accuracy = accuracy_score(y_test, logreg_pred)\n",
    "logreg_precision = precision_score(y_test, logreg_pred, average='weighted')\n",
    "logreg_recall = recall_score(y_test, logreg_pred, average='weighted')\n",
    "logreg_f1 = f1_score(y_test, logreg_pred, average='weighted')\n",
    "\n",
    "# KNeighborsClassifier\n",
    "knn = KNeighborsClassifier()\n",
    "knn.fit(X_train_norm, y_train)\n",
    "knn_pred = knn.predict(X_test_norm)\n",
    "\n",
    "knn_accuracy = accuracy_score(y_test, knn_pred)\n",
    "knn_precision = precision_score(y_test, knn_pred, average='weighted')\n",
    "knn_recall = recall_score(y_test, knn_pred, average='weighted')\n",
    "knn_f1 = f1_score(y_test, knn_pred, average='weighted')\n",
    "\n",
    "# Print the results\n",
    "print(\"Logistic Regression:\")\n",
    "print(\"Accuracy:\", logreg_accuracy)\n",
    "print(\"Precision:\", logreg_precision)\n",
    "print(\"Recall:\", logreg_recall)\n",
    "print(\"F1-score:\", logreg_f1)\n",
    "\n",
    "print(\"\\nKNeighborsClassifier:\")\n",
    "print(\"Accuracy:\", knn_accuracy)\n",
    "print(\"Precision:\", knn_precision)\n",
    "print(\"Recall:\", knn_recall)\n",
    "print(\"F1-score:\", knn_f1)"
   ]
  },
  {
   "cell_type": "code",
   "execution_count": null,
   "metadata": {},
   "outputs": [],
   "source": []
  }
 ],
 "metadata": {
  "kernelspec": {
   "display_name": "Python 3",
   "language": "python",
   "name": "python3"
  },
  "language_info": {
   "codemirror_mode": {
    "name": "ipython",
    "version": 3
   },
   "file_extension": ".py",
   "mimetype": "text/x-python",
   "name": "python",
   "nbconvert_exporter": "python",
   "pygments_lexer": "ipython3",
   "version": "3.10.11"
  }
 },
 "nbformat": 4,
 "nbformat_minor": 4
}
