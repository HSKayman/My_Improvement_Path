{
 "cells": [
  {
   "cell_type": "code",
   "execution_count": 1,
   "id": "7f3c3d1e",
   "metadata": {},
   "outputs": [],
   "source": [
    "# 1- Create a dictionary with 7 days. Ask the user to choose 2 different days by listing the \n",
    "# (e.g. \"12\" for Monday and Tuesday). Delete the user-selected days from the dictionary and \n",
    "# print the remaining 5 days on the screen."
   ]
  },
  {
   "cell_type": "code",
   "execution_count": 2,
   "id": "a7d0b79d",
   "metadata": {},
   "outputs": [
    {
     "name": "stdout",
     "output_type": "stream",
     "text": [
      "Days of the week:\n",
      "1: Monday\n",
      "2: Tuesday\n",
      "3: Wednesday\n",
      "4: Thursday\n",
      "5: Friday\n",
      "6: Saturday\n",
      "7: Sunday\n",
      "Choose 2 different days by listing their numbers (e.g. '12' for Monday and Tuesday): 12\n",
      "\n",
      "Remaining days:\n",
      "3: Wednesday\n",
      "4: Thursday\n",
      "5: Friday\n",
      "6: Saturday\n",
      "7: Sunday\n"
     ]
    }
   ],
   "source": [
    "days = {\n",
    "    \"1\": \"Monday\",\n",
    "    \"2\": \"Tuesday\",\n",
    "    \"3\": \"Wednesday\",\n",
    "    \"4\": \"Thursday\",\n",
    "    \"5\": \"Friday\",\n",
    "    \"6\": \"Saturday\",\n",
    "    \"7\": \"Sunday\"\n",
    "}\n",
    "\n",
    "print(\"Days of the week:\")\n",
    "for key, value in days.items():\n",
    "    print(f\"{key}: {value}\")\n",
    "    \n",
    "check = True\n",
    "while(check):\n",
    "    try:\n",
    "        selected_days = int(input(\"Choose 2 different days by listing their numbers (e.g. '12' for Monday and Tuesday): \"))\n",
    "        if selected_days>77 or selected_days%10>7 or selected_days < 11 or ( selected_days%10 == selected_days//10 ):\n",
    "            check = True\n",
    "            print(\"Please enter the correct different days by listing their numbers\")\n",
    "        else:\n",
    "            check = False\n",
    "    except Exception as e:\n",
    "\n",
    "        print(\"{}\\nPlease enter the correct different days by listing their numbers\".format(e))\n",
    "\n",
    "del days[str(selected_days%10)]\n",
    "del days[str(selected_days//10)]\n",
    "\n",
    "print(\"\\nRemaining days:\")\n",
    "for key, value in days.items():\n",
    "    print(f\"{key}: {value}\")    \n"
   ]
  },
  {
   "cell_type": "code",
   "execution_count": 3,
   "id": "1174a71a",
   "metadata": {},
   "outputs": [],
   "source": [
    "#2- Create a dictionary with the following personnel. Use names as keys.\n",
    "# Michael (age: 20)\n",
    "# Linda (age: 30)"
   ]
  },
  {
   "cell_type": "code",
   "execution_count": 4,
   "id": "a66d2726",
   "metadata": {},
   "outputs": [],
   "source": [
    "persons = {\n",
    "    \"Michael\": {\"age\" : 20},\n",
    "    \"Linda\": {\"age\" : 30}\n",
    "}"
   ]
  },
  {
   "cell_type": "code",
   "execution_count": 5,
   "id": "dd233681",
   "metadata": {},
   "outputs": [],
   "source": [
    "# 3- Add child information to Michael and Linda. \n",
    "# Michael has two children (Karen (age : 12, female) and Greg (age : 7, male) \n",
    "# and Linda has one child (Susan (age: 6, female))"
   ]
  },
  {
   "cell_type": "code",
   "execution_count": 6,
   "id": "c37986df",
   "metadata": {},
   "outputs": [],
   "source": [
    "persons[\"Michael\"][\"child\"]={\n",
    "                            \"Karen\":{\"age\":12,\"gender\":\"female\"},\n",
    "                            \"Greg\": {\"age\":7 ,\"gender\":\"male\"}\n",
    "                            }\n",
    "persons[\"Linda\"][\"child\"]={\n",
    "                            \"Suan\":{\"age\":6,\"gender\":\"female\"}\n",
    "                          }"
   ]
  },
  {
   "cell_type": "code",
   "execution_count": 7,
   "id": "48b58f74",
   "metadata": {},
   "outputs": [],
   "source": [
    "# 4- Print the names of Michael's children in a list."
   ]
  },
  {
   "cell_type": "code",
   "execution_count": 8,
   "id": "333c982d",
   "metadata": {},
   "outputs": [
    {
     "name": "stdout",
     "output_type": "stream",
     "text": [
      "\n",
      " Karen\t->  \tage: 12   \tgender: female \n",
      " Greg\t->  \tage: 7   \tgender: male "
     ]
    }
   ],
   "source": [
    "for child in persons[\"Michael\"][\"child\"]:\n",
    "    print(\"\\n\",child, end=\"\\t->\")\n",
    "    for key, value in persons[\"Michael\"][\"child\"][child].items():\n",
    "        print(\"  \\t{}: {}\".format(key,value), end=\" \") "
   ]
  },
  {
   "cell_type": "code",
   "execution_count": null,
   "id": "36303ff0",
   "metadata": {},
   "outputs": [],
   "source": []
  }
 ],
 "metadata": {
  "kernelspec": {
   "display_name": "Python 3 (ipykernel)",
   "language": "python",
   "name": "python3"
  },
  "language_info": {
   "codemirror_mode": {
    "name": "ipython",
    "version": 3
   },
   "file_extension": ".py",
   "mimetype": "text/x-python",
   "name": "python",
   "nbconvert_exporter": "python",
   "pygments_lexer": "ipython3",
   "version": "3.9.12"
  }
 },
 "nbformat": 4,
 "nbformat_minor": 5
}
