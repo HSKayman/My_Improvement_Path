{
 "cells": [
  {
   "cell_type": "code",
   "execution_count": 1,
   "id": "ba5d580e",
   "metadata": {},
   "outputs": [],
   "source": [
    "# 1- Let us define a division operation inside a function (using def) but to get an error, \n",
    "# define the denominator as 0. So, type except statement properly."
   ]
  },
  {
   "cell_type": "code",
   "execution_count": 8,
   "id": "f170a25d",
   "metadata": {},
   "outputs": [
    {
     "name": "stdout",
     "output_type": "stream",
     "text": [
      "ERROR: Division by zero. Denominator cannot be zero so you will get numerator back.\n"
     ]
    },
    {
     "data": {
      "text/plain": [
       "100"
      ]
     },
     "execution_count": 8,
     "metadata": {},
     "output_type": "execute_result"
    }
   ],
   "source": [
    "def division(numerator,denominator):\n",
    "    result = numerator\n",
    "    try:\n",
    "        result = numerator / denominator\n",
    "    except ZeroDivisionError:\n",
    "        print(\"ERROR: Division by zero. Denominator cannot be zero so you will get numerator back.\")\n",
    "    return numerator\n",
    "division(100,0)"
   ]
  },
  {
   "cell_type": "code",
   "execution_count": 9,
   "id": "6e684b99",
   "metadata": {},
   "outputs": [],
   "source": [
    "# 2- It is possible to get multiple errors after the execution of one try block. \n",
    "# So, please define an error-exception issue with NameError."
   ]
  },
  {
   "cell_type": "code",
   "execution_count": 10,
   "id": "32f2e983",
   "metadata": {},
   "outputs": [
    {
     "name": "stdout",
     "output_type": "stream",
     "text": [
      "NameError occurred: name 'denominator' is not defined\n"
     ]
    }
   ],
   "source": [
    "numerator = 5\n",
    "if numerator == 10:\n",
    "    denominator = 5\n",
    "else:\n",
    "    pass\n",
    "\n",
    "try:\n",
    "    result = numerator / denominator\n",
    "except ZeroDivisionError:\n",
    "    print(\"ERROR: Division by zero. Denominator cannot be zero so you will get numerator back.\")\n",
    "except NameError as ne:\n",
    "    print(f\"NameError occurred: {ne}\")"
   ]
  },
  {
   "cell_type": "code",
   "execution_count": 3,
   "id": "5eff55c5",
   "metadata": {},
   "outputs": [],
   "source": [
    "# 3- Please define a function and with this function, generate a ValueError exception simply \n",
    "# by entering a string instead of numerical value."
   ]
  },
  {
   "cell_type": "code",
   "execution_count": 12,
   "id": "94ac8cae",
   "metadata": {},
   "outputs": [
    {
     "name": "stdout",
     "output_type": "stream",
     "text": [
      "Enter an integer number: 1.1\n",
      "ValueError: Please enter integer number\n",
      "Enter an integer number: 2.1\n",
      "ValueError: Please enter integer number\n",
      "Enter an integer number: 3\n",
      "The sum of digits in the number is 3\n"
     ]
    }
   ],
   "source": [
    "check = True\n",
    "while (check):\n",
    "    try:\n",
    "        number = int(input(\"Enter an integer number: \"))\n",
    "        check = False\n",
    "    except ValueError:\n",
    "        print(\"ValueError: Please enter integer number\")\n",
    "print(\"The sum of digits in the number is {}\".format(sum([int(i) for i in str(number)])))"
   ]
  },
  {
   "cell_type": "code",
   "execution_count": 4,
   "id": "e6019d4a",
   "metadata": {},
   "outputs": [],
   "source": [
    "# 4- Write a function called circumference that takes the diameter of a circle as input \n",
    "# and produces the circumference of the circle. Your function should use try...except to \n",
    "# check for a type error in the event a string is passed."
   ]
  },
  {
   "cell_type": "code",
   "execution_count": null,
   "id": "1770281d",
   "metadata": {},
   "outputs": [],
   "source": [
    "def circumference(diameter):\n",
    "    try:\n",
    "        # Ensure the input is of a numeric type (int or float)\n",
    "        if type(diameter):\n",
    "            raise TypeError(\"The diameter must be a numeric value.\")\n",
    "        \n",
    "        # Calculate the circumference of the circle\n",
    "        pi = 3.14159\n",
    "        result = pi * diameter\n",
    "        print(f\"The circumference of the circle is: {result}\")\n",
    "    except TypeError as te:\n",
    "        print(f\"TypeError: {te}\")\n",
    "\n",
    "circumference(10)  \n",
    "circumference(\"ten\")  "
   ]
  }
 ],
 "metadata": {
  "kernelspec": {
   "display_name": "Python 3 (ipykernel)",
   "language": "python",
   "name": "python3"
  },
  "language_info": {
   "codemirror_mode": {
    "name": "ipython",
    "version": 3
   },
   "file_extension": ".py",
   "mimetype": "text/x-python",
   "name": "python",
   "nbconvert_exporter": "python",
   "pygments_lexer": "ipython3",
   "version": "3.9.12"
  }
 },
 "nbformat": 4,
 "nbformat_minor": 5
}
