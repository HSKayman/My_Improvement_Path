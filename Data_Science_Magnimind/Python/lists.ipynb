{
 "cells": [
  {
   "cell_type": "code",
   "execution_count": 1,
   "id": "85c0f858",
   "metadata": {},
   "outputs": [],
   "source": [
    "# 1- Write a code to compute the sum of the two lowest numbers and the two highest numbers in the following list."
   ]
  },
  {
   "cell_type": "code",
   "execution_count": 2,
   "id": "dc4d59fd",
   "metadata": {},
   "outputs": [
    {
     "name": "stdout",
     "output_type": "stream",
     "text": [
      "Sum of lowest 14\n",
      "Sum of highest 174\n"
     ]
    }
   ],
   "source": [
    "my_list = [34, 56, 76, 45, 2, 12, 67, 98, 37, 54, 66]\n",
    "\n",
    "sorted_list = sorted(my_list)\n",
    "\n",
    "sum_of_lowest = sum(sorted_list[:2])\n",
    "sum_of_highest = sum(sorted_list[-2:])\n",
    "\n",
    "print(\"Sum of lowest {}\\nSum of highest {}\".format(sum_of_lowest,sum_of_highest))"
   ]
  },
  {
   "cell_type": "code",
   "execution_count": 3,
   "id": "fe140d7c",
   "metadata": {},
   "outputs": [],
   "source": [
    "# 2- The following two lists contain student names and scores. Write a code that gets the name from the user and prints the score of that student."
   ]
  },
  {
   "cell_type": "code",
   "execution_count": 11,
   "id": "32bb771e",
   "metadata": {},
   "outputs": [
    {
     "name": "stdout",
     "output_type": "stream",
     "text": [
      "David      : 99\n",
      "Michael    : 87\n",
      "John       : 78\n",
      "James      : 86\n",
      "Greg       : 68\n",
      "Mark       : 94\n",
      "William    : 76\n",
      "Richard    : 97\n",
      "Thomas     : 56\n",
      "Steven     : 98\n",
      "Mary       : 76\n",
      "Susan      : 87\n",
      "Maria      : 79\n",
      "Karen      : 90\n",
      "Lisa       : 73\n",
      "Linda      : 93\n",
      "Donna      : 82\n",
      "Patricia   : 69\n",
      "Debra      : 97\n",
      "Eric       : 98\n"
     ]
    }
   ],
   "source": [
    "names = [\"David\", \"Michael\", \"John\", \"James\", \"Greg\", \"Mark\", \"William\", \"Richard\", \"Thomas\", \"Steven\",\n",
    "        \"Mary\", \"Susan\", \"Maria\", \"Karen\", \"Lisa\", \"Linda\", \"Donna\", \"Patricia\", \"Debra\", \"Eric\"]\n",
    "scores = [99, 87, 78, 86, 68, 94, 76, 97, 56, 98, 76, 87, 79, 90, 73, 93, 82, 69, 97, 98]\n",
    "\n",
    "i = 0\n",
    "while i < len(names):\n",
    "    print(\"{:<10} : {}\".format(names[i], scores[i]))\n",
    "    i += 1"
   ]
  },
  {
   "cell_type": "code",
   "execution_count": 12,
   "id": "245f2553",
   "metadata": {},
   "outputs": [],
   "source": [
    "# 3- By using the two lists above, what is the maximum score and how many students got that score?"
   ]
  },
  {
   "cell_type": "code",
   "execution_count": null,
   "id": "71843251",
   "metadata": {},
   "outputs": [],
   "source": [
    "max_score = max(scores)\n",
    "count = "
   ]
  }
 ],
 "metadata": {
  "kernelspec": {
   "display_name": "Python 3 (ipykernel)",
   "language": "python",
   "name": "python3"
  },
  "language_info": {
   "codemirror_mode": {
    "name": "ipython",
    "version": 3
   },
   "file_extension": ".py",
   "mimetype": "text/x-python",
   "name": "python",
   "nbconvert_exporter": "python",
   "pygments_lexer": "ipython3",
   "version": "3.9.12"
  }
 },
 "nbformat": 4,
 "nbformat_minor": 5
}
