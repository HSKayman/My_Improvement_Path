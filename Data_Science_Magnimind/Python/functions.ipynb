{
 "cells": [
  {
   "cell_type": "code",
   "execution_count": 1,
   "id": "c995b5a3",
   "metadata": {},
   "outputs": [],
   "source": [
    "# 1. Finding Prime Number\n",
    "# A prime number is an integer greater than one that is only divisible by one \n",
    "# and itself. Write a function that determines whether or not its parameter is prime,\n",
    "# returning True if it is, and False otherwise. Write a main program that reads an integer\n",
    "# from the user and displays a message indicating whether or not it is prime."
   ]
  },
  {
   "cell_type": "code",
   "execution_count": 2,
   "id": "c3ca0f78",
   "metadata": {},
   "outputs": [
    {
     "name": "stdout",
     "output_type": "stream",
     "text": [
      "Enter an integer to check if it is prime: 1000000007\n",
      "1000000007 is a prime number.\n"
     ]
    }
   ],
   "source": [
    "def is_prime(n):\n",
    "    if n < 2:\n",
    "        return False\n",
    "    elif n < 4:\n",
    "        return True\n",
    "    elif n % 2 == 0 or n % 3 == 0:\n",
    "        return False\n",
    "    \n",
    "    i = 5\n",
    "    while i * i <= n:\n",
    "        if n % i == 0 or n % (i + 2) == 0:\n",
    "            return False\n",
    "        i += 6\n",
    "    \n",
    "    return True\n",
    "\n",
    "check = True\n",
    "while (check):\n",
    "    try:\n",
    "        number = int(input(\"Enter an integer to check if it is prime: \"))\n",
    "        check = False\n",
    "    except Exception as e:\n",
    "        print(\"{}\\nPlease enter an integer number\".format(e))\n",
    "\n",
    "print(\"{} {} a prime number.\".format(number,\"is\" if is_prime(number) else \"is not\")) "
   ]
  },
  {
   "cell_type": "code",
   "execution_count": 3,
   "id": "fbc03042",
   "metadata": {},
   "outputs": [],
   "source": [
    "# 2. Rømer temperature\n",
    "# You're writing an excruciatingly detailed alternate history novel set in a world where Daniel Gabriel Fahrenheit was never born.\n",
    "# Since Fahrenheit never lived the world kept on using the Rømer scale, invented by fellow Dane Ole Rømer to this very day, skipping over the Fahrenheit and Celsius scales entirely.\n",
    "# Your magnum opus contains several thousand references to temperature, but those temperatures are all currently in degrees Celsius. You don't want to convert everything by hand, so you've decided to write a function, celsius_to_romer that takes a temperature in degrees Celsius and returns the equivalent temperature in degrees Rømer.\n",
    "# For example: celsius_to_romer(24) should return 20.1."
   ]
  },
  {
   "cell_type": "code",
   "execution_count": 4,
   "id": "528dea8f",
   "metadata": {},
   "outputs": [
    {
     "data": {
      "text/plain": [
       "20.1"
      ]
     },
     "execution_count": 4,
     "metadata": {},
     "output_type": "execute_result"
    }
   ],
   "source": [
    "def celsius_to_romer(celsius):\n",
    "    return float(str(celsius / 1.9047619 + 7.5)[:4])\n",
    "\n",
    "celsius_to_romer(24)"
   ]
  },
  {
   "cell_type": "code",
   "execution_count": 5,
   "id": "d1f29fa1",
   "metadata": {},
   "outputs": [],
   "source": [
    "# 3. Pixelart planning\n",
    "# You're laying out a rad pixel art mural to paint on your living room wall in homage to Paul Robertson, your favorite pixel artist.\n",
    "# You want your work to be perfect down to the millimeter. You haven't decided on the dimensions of your piece, how large you want your pixels to be, or which wall you want to use. You just know that you want to fit an exact number of pixels.\n",
    "# To help decide those things you've decided to write a function, is_divisible that will tell you whether a wall of a certain length can exactly fit an integer number of pixels of a certain length.\n",
    "# Your function should take two arguments: the size of the wall in millimeters and the size of a pixel in millimeters. It should return True if you can fit an exact number of pixels on the wall, otherwise it should return False. For example is_divisible(4050, 27) should return True, but is_divisible(4066, 27) should return False.\n",
    "# Note: you don't need to use an if statement here. Remember that in Python an expression using the == comparison operator will evaluate to either True or False:"
   ]
  },
  {
   "cell_type": "code",
   "execution_count": 6,
   "id": "f4494df5",
   "metadata": {},
   "outputs": [
    {
     "data": {
      "text/plain": [
       "(True, False)"
      ]
     },
     "execution_count": 6,
     "metadata": {},
     "output_type": "execute_result"
    }
   ],
   "source": [
    "def is_divisible(wall_size,pixel_size):\n",
    "    return wall_size/pixel_size == wall_size//pixel_size\n",
    "\n",
    "is_divisible(4050, 27) ,is_divisible(4066, 27)"
   ]
  },
  {
   "cell_type": "code",
   "execution_count": null,
   "id": "8d787935",
   "metadata": {},
   "outputs": [],
   "source": []
  }
 ],
 "metadata": {
  "kernelspec": {
   "display_name": "Python 3 (ipykernel)",
   "language": "python",
   "name": "python3"
  },
  "language_info": {
   "codemirror_mode": {
    "name": "ipython",
    "version": 3
   },
   "file_extension": ".py",
   "mimetype": "text/x-python",
   "name": "python",
   "nbconvert_exporter": "python",
   "pygments_lexer": "ipython3",
   "version": "3.9.12"
  }
 },
 "nbformat": 4,
 "nbformat_minor": 5
}
