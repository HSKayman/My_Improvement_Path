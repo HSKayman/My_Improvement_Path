{
 "cells": [
  {
   "cell_type": "raw",
   "id": "8986d455",
   "metadata": {},
   "source": [
    "1- Suppose you invested in Bitcoin at the end of 2020 when Bitcoin gained a lot of value. What would be your money at the end of a week if you had invested $1000 with an average daily increase of 12% ? You can solve the problem using Python."
   ]
  },
  {
   "cell_type": "code",
   "execution_count": 6,
   "id": "8c790ae1",
   "metadata": {},
   "outputs": [
    {
     "name": "stdout",
     "output_type": "stream",
     "text": [
      "$2,210.68\n"
     ]
    }
   ],
   "source": [
    "balance = 1000\n",
    "rate = 12\n",
    "period = 7\n",
    "new_balance = 1000*((1 + 0.12)**7)\n",
    "the_string = f\"${new_balance:,.2f}\" if new_balance > 0 else f\"$({abs(new_balance):,.2f})\"\n",
    "print(the_string)"
   ]
  },
  {
   "cell_type": "raw",
   "id": "5ee36c18",
   "metadata": {},
   "source": [
    "2- Print the text in quotes with Python. However, you must get the numbers from variables using .format() notation. \n",
    "Because the text is long, you might consider writing in two lines:\n",
    "\"\"\"When we buy bitcoin with 1000 USD at the beginning of the week, we would earn 1210.68 USD at the end of the week,\n",
    "with an average gain of 12\\%.\"\"\""
   ]
  },
  {
   "cell_type": "code",
   "execution_count": 14,
   "id": "537a0d8a",
   "metadata": {},
   "outputs": [
    {
     "name": "stdout",
     "output_type": "stream",
     "text": [
      "When we buy bitcoin with 1000 at the beginning of the week, we would earn 1,210.68 at the end of the week, with an average gain of 12%.\n"
     ]
    }
   ],
   "source": [
    "print(\"When we buy bitcoin with {} at the beginning of the week, we would {} {:,.2f} at the end of the week, with an average gain of {}%.\"\n",
    "      .format(balance, \n",
    "             \"earn\" if new_balance > balance else \"lose\",\n",
    "             abs(new_balance - balance),\n",
    "             rate))"
   ]
  },
  {
   "cell_type": "raw",
   "id": "3b71a654",
   "metadata": {},
   "source": [
    "3- Get the temperature in Fahrenheit from user and write a code to convert it to Celcius. \n",
    "For conversion, you can use this formula: C = (5/9) * (F - 32)"
   ]
  },
  {
   "cell_type": "code",
   "execution_count": 18,
   "id": "b42c7a7c",
   "metadata": {},
   "outputs": [
    {
     "name": "stdout",
     "output_type": "stream",
     "text": [
      "Enter the temperature in Fahrenheit: 32\n",
      "Temperature (C) : 0.00\n"
     ]
    }
   ],
   "source": [
    "check = True\n",
    "while (check):\n",
    "    try:\n",
    "        fahrenheit = float(input(\"Enter the temperature in Fahrenheit: \"))\n",
    "        check = False\n",
    "    except Exception as e:\n",
    "        print(\"{}\\nPlease enter the correct fahrenheit\".format(e))\n",
    "        \n",
    "celcius = (5/9) * (fahrenheit - 32)\n",
    "print(\"Temperature (C) : {:.2f}\".format(celcius))"
   ]
  },
  {
   "cell_type": "raw",
   "id": "4e9af69c",
   "metadata": {},
   "source": [
    "4- Get a three digit number the from user and calculate the sum of the digits in the integer."
   ]
  },
  {
   "cell_type": "code",
   "execution_count": 19,
   "id": "69921f08",
   "metadata": {},
   "outputs": [
    {
     "name": "stdout",
     "output_type": "stream",
     "text": [
      "Enter an integer number: 123\n",
      "The sum of digits in the number is 6\n"
     ]
    }
   ],
   "source": [
    "check = True\n",
    "while (check):\n",
    "    try:\n",
    "        number = int(input(\"Enter an integer number: \"))\n",
    "        check = False\n",
    "    except Exception as e:\n",
    "        print(\"{}\\nPlease enter integer number\".format(e))\n",
    "print(\"The sum of digits in the number is {}\".format(sum([int(i) for i in str(number)])))"
   ]
  },
  {
   "cell_type": "raw",
   "id": "d4d19e00",
   "metadata": {},
   "source": [
    "5- Write some code to calculate the hypotenuse of a right angled triangle. Get the side lengths from the user."
   ]
  },
  {
   "cell_type": "code",
   "execution_count": 21,
   "id": "8ea5310f",
   "metadata": {},
   "outputs": [
    {
     "name": "stdout",
     "output_type": "stream",
     "text": [
      "First side length: 12\n",
      "Second side length: 13\n",
      "The length of the hypotenuse is 17.69\n"
     ]
    }
   ],
   "source": [
    "check = True\n",
    "while (check):\n",
    "    try:\n",
    "        first_side = float(input(\"First side length: \"))\n",
    "        check = False\n",
    "    except Exception as e:\n",
    "        print(\"{}\\nPlease enter the correct length\".format(e))\n",
    "        \n",
    "check = True\n",
    "while (check):\n",
    "    try:\n",
    "        second_side = float(input(\"Second side length: \"))\n",
    "        check = False\n",
    "    except Exception as e:\n",
    "        print(\"{}\\nPlease enter the correct length\".format(e))        \n",
    "         \n",
    "print(\"The length of the hypotenuse is {:.2f}\".format((first_side**2+second_side**2)**0.5))"
   ]
  },
  {
   "cell_type": "code",
   "execution_count": null,
   "id": "feca8798",
   "metadata": {},
   "outputs": [],
   "source": []
  }
 ],
 "metadata": {
  "kernelspec": {
   "display_name": "Python 3 (ipykernel)",
   "language": "python",
   "name": "python3"
  },
  "language_info": {
   "codemirror_mode": {
    "name": "ipython",
    "version": 3
   },
   "file_extension": ".py",
   "mimetype": "text/x-python",
   "name": "python",
   "nbconvert_exporter": "python",
   "pygments_lexer": "ipython3",
   "version": "3.9.12"
  }
 },
 "nbformat": 4,
 "nbformat_minor": 5
}
