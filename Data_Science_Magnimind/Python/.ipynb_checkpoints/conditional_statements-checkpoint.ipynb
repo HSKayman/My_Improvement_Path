{
 "cells": [
  {
   "cell_type": "code",
   "execution_count": 1,
   "id": "5dc19f35",
   "metadata": {},
   "outputs": [],
   "source": [
    "# 1- Ask the user to enter a number between 10 and 20 (inclusive). \n",
    "# If they enter a number within this range, display the message “Thank you”, otherwise display the message “Incorrect answer”."
   ]
  },
  {
   "cell_type": "code",
   "execution_count": 2,
   "id": "9089870f",
   "metadata": {},
   "outputs": [
    {
     "name": "stdout",
     "output_type": "stream",
     "text": [
      "Enter a number between 10 and 20 (inclusive): 10\n",
      "Thank You\n"
     ]
    }
   ],
   "source": [
    "check = True\n",
    "while (check):\n",
    "    try:\n",
    "        number = float(input(\"Enter a number between 10 and 20 (inclusive): \"))\n",
    "        check = False\n",
    "    except Exception as e:\n",
    "        print(\"{}\\nPlease enter a number\".format(e))\n",
    "\n",
    "print(\"{}\".format(\"Thank You\" if number>9 and number<21 else \"Incorrect answer\"))\n"
   ]
  },
  {
   "cell_type": "code",
   "execution_count": 3,
   "id": "d9052c83",
   "metadata": {},
   "outputs": [],
   "source": [
    "# 2- In this exercise, you will create a program that reads a letter of the alphabet from the user. According to the answer:\n",
    "# If the user enters a, e, i, o, u, then your program should display a message indicating that the entered letter is a vowel.\n",
    "# If the user enters y, then your program should display a message indicating that y is sometimes a vowel and sometimes a consonant.\n",
    "# Otherwise, your program should display a message indicating that the letter is a consonant."
   ]
  },
  {
   "cell_type": "code",
   "execution_count": 4,
   "id": "203a5469",
   "metadata": {},
   "outputs": [
    {
     "name": "stdout",
     "output_type": "stream",
     "text": [
      "Enter a letter: A\n",
      "Entered letter is a vowel.\n"
     ]
    }
   ],
   "source": [
    "check = True\n",
    "while (check):\n",
    "    try:\n",
    "        letter = input(\"Enter a letter: \")\n",
    "        if letter in \"abcdefghijklmnopqrstuvwxyzABCDEFGHIJKLMNOPQRSTUVWXYZ\" or len(letter) == 1:\n",
    "            check = False\n",
    "        else:\n",
    "            print(\"Please enter a letter\") \n",
    "        \n",
    "    except Exception as e:\n",
    "        print(\"{}\\nPlease enter a letter\".format(e))\n",
    "if letter.lower() in \"aeiou\":\n",
    "    print(\"Entered letter is a vowel.\")\n",
    "elif letter.lower() == \"y\":\n",
    "    print(\"Y is sometimes a vowel and sometimes a consonant.\")\n",
    "else:\n",
    "    print(\"the letter is a consonant\")"
   ]
  },
  {
   "cell_type": "code",
   "execution_count": null,
   "id": "71ee6a89",
   "metadata": {},
   "outputs": [],
   "source": []
  }
 ],
 "metadata": {
  "kernelspec": {
   "display_name": "Python 3 (ipykernel)",
   "language": "python",
   "name": "python3"
  },
  "language_info": {
   "codemirror_mode": {
    "name": "ipython",
    "version": 3
   },
   "file_extension": ".py",
   "mimetype": "text/x-python",
   "name": "python",
   "nbconvert_exporter": "python",
   "pygments_lexer": "ipython3",
   "version": "3.9.12"
  }
 },
 "nbformat": 4,
 "nbformat_minor": 5
}
