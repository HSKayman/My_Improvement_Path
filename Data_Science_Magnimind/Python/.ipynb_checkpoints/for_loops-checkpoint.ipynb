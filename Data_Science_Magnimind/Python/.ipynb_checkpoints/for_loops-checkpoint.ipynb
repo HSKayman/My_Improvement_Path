{
 "cells": [
  {
   "cell_type": "code",
   "execution_count": 1,
   "id": "f46d8d40",
   "metadata": {},
   "outputs": [],
   "source": [
    "# 1. Do the following to create a program that simulates how websites ensure that everyone has a unique username.\n",
    "# * Make a list of five or more usernames called current_users.\n",
    "# * Make another list of five usernames called new_users. Make sure one or two of the new usernames are also in the current_users list.\n",
    "# * Loop through the new_users list to see if each new username has already been used. If it has, print a message that the person will need to enter a new username. If a username has not been used, print a message saying that the username is available.\n",
    "# * Make sure your comparison is case insensitive. If 'John' has been used, 'JOHN' should not be accepted."
   ]
  },
  {
   "cell_type": "code",
   "execution_count": 2,
   "id": "36a9cc58",
   "metadata": {},
   "outputs": [
    {
     "name": "stdout",
     "output_type": "stream",
     "text": [
      "The username 'charlie' is already taken. Please enter a new username.\n",
      "The username 'Idil' is already taken. Please enter a new username.\n",
      "The username 'eve' is already taken. Please enter a new username.\n",
      "The username 'Frank' is available.\n",
      "The username 'George' is available.\n",
      "The username 'Hannah' is available.\n",
      "The username 'aisha' is already taken. Please enter a new username.\n",
      "The username 'omar' is already taken. Please enter a new username.\n",
      "The username 'Ali' is available.\n",
      "The username 'Khadija' is available.\n",
      "The username 'Ahmet' is already taken. Please enter a new username.\n"
     ]
    }
   ],
   "source": [
    "current_users = [\"alice\", \"bob\", \"Charlie\", \"dave\", \"Eve\", \"Aisha\", \"Omar\", \"Zainab\", \"Fatima\", \"Ahmet\", \"idil\"]\n",
    "new_users = [\"charlie\", \"Idil\", \"eve\", \"Frank\", \"George\", \"Hannah\", \"aisha\", \"omar\", \"Ali\", \"Khadija\", \"Ahmet\"]\n",
    "current_users_lower = [name.lower() for name in current_users]\n",
    "for new_user in new_users:\n",
    "    if new_user.lower() in current_users_lower:\n",
    "        print(\"The username '{}' is already taken. Please enter a new username.\".format(new_user))\n",
    "    else:\n",
    "        print(\"The username '{}' is available.\".format(new_user))\n"
   ]
  },
  {
   "cell_type": "code",
   "execution_count": 3,
   "id": "f381176b",
   "metadata": {},
   "outputs": [],
   "source": [
    "# 2. Color probability\n",
    "# You're playing a game with a friend involving a bag of marbles. In the bag are ten marbles:\n",
    "# 1 smooth red marble\n",
    "# 4 bumpy red marbles\n",
    "# 2 bumpy yellow marbles\n",
    "# 1 smooth yellow marble\n",
    "# 1 bumpy green marble\n",
    "# 1 smooth green marble\n",
    "# You can see that the probability of picking a smooth red marble from the bag is 1 / 10 or 0.10 and the probability of picking a bumpy yellow marble is 2 / 10 or 0.20.\n",
    "# The game works like this: your friend puts her hand in the bag, chooses a marble (without looking at it) and tells you whether it's bumpy or smooth. Then you have to guess which color it is before she pulls it out and reveals whether you're correct or not.\n",
    "# You know that the information about whether the marble is bumpy or smooth changes the probability of what color it is, and you want some help with your guesses.\n",
    "# Write a function color_probability that takes two arguments: a color ('red', 'yellow', or 'green') and a texture ('bumpy' or 'smooth') and returns the probability of drawing that combination as a decimal fraction accurate to two places.\n",
    "# The probability should be a string and should discard any digits after the 100ths place. For example, 2 / 3 or 0.6666666666666666 would become the string '0.66'. Note this is different from rounding.\n",
    "# As a complete example, color_probability('red', 'bumpy') should return the string '0.57'."
   ]
  },
  {
   "cell_type": "code",
   "execution_count": 14,
   "id": "5cba26c4",
   "metadata": {},
   "outputs": [
    {
     "name": "stdout",
     "output_type": "stream",
     "text": [
      "Color:red\t Texture:smooth\t Rate: 0.33\n",
      "Color:red\t Texture:bumpy\t Rate: 0.57\n",
      "Color:yellow\t Texture:smooth\t Rate: 0.33\n",
      "Color:yellow\t Texture:bumpy\t Rate: 0.28\n",
      "Color:green\t Texture:smooth\t Rate: 0.33\n",
      "Color:green\t Texture:bumpy\t Rate: 0.14\n"
     ]
    }
   ],
   "source": [
    "marbles = {\n",
    "        'red': {'smooth': 1, 'bumpy': 4},\n",
    "        'yellow': {'smooth': 1, 'bumpy': 2},\n",
    "        'green': {'smooth': 1, 'bumpy': 1}\n",
    "    }\n",
    "def color_probability(color, texture):\n",
    "    total_texture_count = sum(marbles[c][texture] for c in marbles)\n",
    "    specific_count = marbles[color][texture]\n",
    "    probability = specific_count / total_texture_count\n",
    "    return f\"{probability}\"[:4]\n",
    "\n",
    "for color in marbles:\n",
    "    for texture in ['smooth','bumpy']:   \n",
    "        print(\"Color:{}\\t Texture:{}\\t Rate: {}\".format(color,texture,color_probability(color, texture)))  \n"
   ]
  },
  {
   "cell_type": "code",
   "execution_count": 15,
   "id": "2878f135",
   "metadata": {},
   "outputs": [],
   "source": [
    "# 3. Write an if-elif-else chain that determines a person’s stage of life.\n",
    "# Set a value for the variable age, and then:\n",
    "# * If the person is less than 2 years old, print a message that the person is a baby.\n",
    "# * If the person is at least 2 years old but less than 4, print a message that the person is a toddler.\n",
    "# * If the person is at least 4 years old but less than 13, print a message that the person is a kid.\n",
    "# * If the person is at least 13 years old but less than 20, print a message that the person is a teenager.\n",
    "# * If the person is at least 20 years old but less than 65, print a message that the person is an adult.\n",
    "# * If the person is age 65 or older, print a message that the person is an elder."
   ]
  },
  {
   "cell_type": "code",
   "execution_count": 19,
   "id": "0256a31b",
   "metadata": {},
   "outputs": [
    {
     "name": "stdout",
     "output_type": "stream",
     "text": [
      "The person is a baby.\n",
      "The person is a toddler.\n",
      "The person is a kid.\n",
      "The person is a kid.\n",
      "The person is a teenager.\n",
      "The person is an adult.\n",
      "The person is an adult.\n",
      "The person is an elder.\n"
     ]
    }
   ],
   "source": [
    "ages = [2**i for i in range(8)]\n",
    "# ages = 25\n",
    "for age in ages:\n",
    "    if age < 2:\n",
    "        print(\"The person is a baby.\")\n",
    "    elif age > 1 and age < 4:\n",
    "        print(\"The person is a toddler.\")\n",
    "    elif age > 3 and age < 13:\n",
    "        print(\"The person is a kid.\")\n",
    "    elif age > 12 and age < 20:\n",
    "        print(\"The person is a teenager.\")\n",
    "    elif age > 19 and age < 65:\n",
    "        print(\"The person is an adult.\")\n",
    "    else:\n",
    "        print(\"The person is an elder.\")"
   ]
  },
  {
   "cell_type": "code",
   "execution_count": null,
   "id": "b8891c82",
   "metadata": {},
   "outputs": [],
   "source": []
  }
 ],
 "metadata": {
  "kernelspec": {
   "display_name": "Python 3 (ipykernel)",
   "language": "python",
   "name": "python3"
  },
  "language_info": {
   "codemirror_mode": {
    "name": "ipython",
    "version": 3
   },
   "file_extension": ".py",
   "mimetype": "text/x-python",
   "name": "python",
   "nbconvert_exporter": "python",
   "pygments_lexer": "ipython3",
   "version": "3.9.12"
  }
 },
 "nbformat": 4,
 "nbformat_minor": 5
}
