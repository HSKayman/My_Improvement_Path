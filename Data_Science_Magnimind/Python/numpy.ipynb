{
 "cells": [
  {
   "cell_type": "code",
   "execution_count": 1,
   "id": "44e84959",
   "metadata": {},
   "outputs": [],
   "source": [
    "# 1- Create three lists representing house features, each list containing ten values. The first one for the house's \n",
    "# size in square meters, the second one for rooms and last for price. Then, create an array combining these lists."
   ]
  },
  {
   "cell_type": "code",
   "execution_count": 2,
   "id": "893bc346",
   "metadata": {},
   "outputs": [
    {
     "data": {
      "text/plain": [
       "array([[120,  85,  70, 210, 100, 190,  75, 160, 130, 110],\n",
       "       [  5,   3,   3,   7,   4,   6,   2,   5,   4,   3],\n",
       "       [300, 200, 180, 500, 250, 450, 150, 400, 275, 230]])"
      ]
     },
     "execution_count": 2,
     "metadata": {},
     "output_type": "execute_result"
    }
   ],
   "source": [
    "import numpy as np\n",
    "size = [120, 85, 70, 210, 100, 190, 75, 160, 130, 110]\n",
    "room = [5, 3, 3, 7, 4, 6, 2, 5, 4, 3]\n",
    "price = [300, 200, 180, 500, 250, 450, 150, 400, 275, 230]\n",
    "feature = np.array([size,room,price])\n",
    "feature"
   ]
  },
  {
   "cell_type": "code",
   "execution_count": 3,
   "id": "8ec836f8",
   "metadata": {},
   "outputs": [],
   "source": [
    "# 2- Transpose the array you have created, so that every line can represent features of one house."
   ]
  },
  {
   "cell_type": "code",
   "execution_count": 4,
   "id": "06d0081e",
   "metadata": {},
   "outputs": [
    {
     "data": {
      "text/plain": [
       "array([[120,   5, 300],\n",
       "       [ 85,   3, 200],\n",
       "       [ 70,   3, 180],\n",
       "       [210,   7, 500],\n",
       "       [100,   4, 250],\n",
       "       [190,   6, 450],\n",
       "       [ 75,   2, 150],\n",
       "       [160,   5, 400],\n",
       "       [130,   4, 275],\n",
       "       [110,   3, 230]])"
      ]
     },
     "execution_count": 4,
     "metadata": {},
     "output_type": "execute_result"
    }
   ],
   "source": [
    "feature = feature.T\n",
    "feature"
   ]
  },
  {
   "cell_type": "code",
   "execution_count": 5,
   "id": "026a6fda",
   "metadata": {},
   "outputs": [],
   "source": [
    "# 3- Display the shape of the array and explain what it means.\n",
    "# For the following assignment, you are going to use Earthquakes dataset."
   ]
  },
  {
   "cell_type": "code",
   "execution_count": 6,
   "id": "55d5c584",
   "metadata": {},
   "outputs": [
    {
     "data": {
      "text/plain": [
       "(10, 3)"
      ]
     },
     "execution_count": 6,
     "metadata": {},
     "output_type": "execute_result"
    }
   ],
   "source": [
    "feature.shape # 10 rows, 3 columns"
   ]
  },
  {
   "cell_type": "code",
   "execution_count": 7,
   "id": "8b5ff043",
   "metadata": {},
   "outputs": [],
   "source": [
    "# 4- Load the Earthquakes dataset. Export the dataset to an array as you covered in the previous lesson."
   ]
  },
  {
   "cell_type": "code",
   "execution_count": 8,
   "id": "1212e421",
   "metadata": {},
   "outputs": [
    {
     "data": {
      "text/plain": [
       "array([['1970/01/04 17:00:40.20', 24.1389999999999, 102.503, ..., 0.0,\n",
       "        'NEI', 1970010440.0],\n",
       "       ['1970/01/06 05:35:51.80', -9.628, 151.458, ..., 0.0, 'NEI',\n",
       "        1970010640.0],\n",
       "       ['1970/01/08 17:12:39.10', -34.741, 178.568, ..., 0.0, 'NEI',\n",
       "        1970010840.0],\n",
       "       ...,\n",
       "       ['2013/12/17 23:38:08.10', 20.7635, 146.759899999999, ..., 0.74,\n",
       "        'us', 2013121720.0],\n",
       "       ['2014/01/01 16:03:28.89', -13.8779, 167.2434, ..., 0.67, 'us',\n",
       "        2014010120.0],\n",
       "       ['2014/01/13 04:01:04.69', 19.0014, -66.8478, ..., 1.42, 'us',\n",
       "        2014011320.0]], dtype=object)"
      ]
     },
     "execution_count": 8,
     "metadata": {},
     "output_type": "execute_result"
    }
   ],
   "source": [
    "import pandas as pd\n",
    "df = pd.read_csv(\"earthquakes1970-2014.csv\")\n",
    "df_np = df.values\n",
    "df_np"
   ]
  },
  {
   "cell_type": "code",
   "execution_count": 9,
   "id": "3dc26756",
   "metadata": {},
   "outputs": [],
   "source": [
    "# 5- Slice first 20 rows and column numbers 3, 5, 6, 7, 12. Then, assign the array you sliced to a variable."
   ]
  },
  {
   "cell_type": "code",
   "execution_count": 10,
   "id": "d7ee6edb",
   "metadata": {},
   "outputs": [
    {
     "data": {
      "text/plain": [
       "array([[24.1389999999999, 102.503, 31.0, 7.5, 1970010440.0],\n",
       "       [-9.628, 151.458, 8.0, 6.2, 1970010640.0],\n",
       "       [-34.741, 178.568, 179.0, 6.1, 1970010840.0],\n",
       "       [6.825, 126.736999999999, 73.0, 6.1, 1970011040.0],\n",
       "       [60.28, -152.66, 85.0, 6.0, nan],\n",
       "       [-25.8, -177.348999999999, 80.0, 6.5, 1970012040.0],\n",
       "       [42.518999999999906, 142.966, 46.0, 6.4, 1970012040.0],\n",
       "       [7.017, -104.298, 33.0, 6.6, 1970012140.0],\n",
       "       [-12.579, 166.37, 50.0, 6.4, 1970012640.0],\n",
       "       [15.532, -99.48399999999991, 21.0, 6.5, 1970020440.0],\n",
       "       [12.598, 122.117, 11.0, 6.6, 1970020540.0],\n",
       "       [23.096, 100.775, 33.0, 6.1, 1970020640.0],\n",
       "       [30.576, 103.031, 33.0, 6.0, 1970022440.0],\n",
       "       [50.13, -179.5898, 7.0, 6.0, nan],\n",
       "       [52.589799999999904, -175.039999999999, 161.0, 6.1, nan],\n",
       "       [12.134, 143.706999999999, 33.0, 6.2, 1970030440.0],\n",
       "       [-19.0079999999999, 168.603, 41.0, 6.5, 1970030940.0],\n",
       "       [44.798, 148.87, 40.0, 6.0, 1970031040.0],\n",
       "       [57.39, -153.97, 16.0, 6.5, nan],\n",
       "       [-29.6529999999999, -69.49899999999991, 119.0, 6.0, 1970031540.0]],\n",
       "      dtype=object)"
      ]
     },
     "execution_count": 10,
     "metadata": {},
     "output_type": "execute_result"
    }
   ],
   "source": [
    "array = df_np[:20,[1,2, 3, 4, 11]]\n",
    "array"
   ]
  },
  {
   "cell_type": "code",
   "execution_count": 11,
   "id": "af2e8707",
   "metadata": {},
   "outputs": [],
   "source": [
    "# 6- Display the row numbers where last values are equal to 4.5 or higher."
   ]
  },
  {
   "cell_type": "code",
   "execution_count": 12,
   "id": "0267bafb",
   "metadata": {},
   "outputs": [
    {
     "name": "stderr",
     "output_type": "stream",
     "text": [
      "C:\\Users\\hskay\\AppData\\Local\\Temp\\ipykernel_38612\\3120884243.py:1: RuntimeWarning: invalid value encountered in greater_equal\n",
      "  np.where(array[:,-1] >= 4.5)\n"
     ]
    },
    {
     "data": {
      "text/plain": [
       "(array([ 0,  1,  2,  3,  5,  6,  7,  8,  9, 10, 11, 12, 15, 16, 17, 19],\n",
       "       dtype=int64),)"
      ]
     },
     "execution_count": 12,
     "metadata": {},
     "output_type": "execute_result"
    }
   ],
   "source": [
    "np.where(array[:,-1] >= 4.5)"
   ]
  },
  {
   "cell_type": "code",
   "execution_count": 13,
   "id": "410d8a20",
   "metadata": {},
   "outputs": [],
   "source": [
    "# 7- Assign 1 to first row."
   ]
  },
  {
   "cell_type": "code",
   "execution_count": 14,
   "id": "f44dd18e",
   "metadata": {},
   "outputs": [
    {
     "data": {
      "text/plain": [
       "array([[1, 1, 1, 1, 1],\n",
       "       [-9.628, 151.458, 8.0, 6.2, 1970010640.0],\n",
       "       [-34.741, 178.568, 179.0, 6.1, 1970010840.0],\n",
       "       [6.825, 126.736999999999, 73.0, 6.1, 1970011040.0],\n",
       "       [60.28, -152.66, 85.0, 6.0, nan],\n",
       "       [-25.8, -177.348999999999, 80.0, 6.5, 1970012040.0],\n",
       "       [42.518999999999906, 142.966, 46.0, 6.4, 1970012040.0],\n",
       "       [7.017, -104.298, 33.0, 6.6, 1970012140.0],\n",
       "       [-12.579, 166.37, 50.0, 6.4, 1970012640.0],\n",
       "       [15.532, -99.48399999999991, 21.0, 6.5, 1970020440.0],\n",
       "       [12.598, 122.117, 11.0, 6.6, 1970020540.0],\n",
       "       [23.096, 100.775, 33.0, 6.1, 1970020640.0],\n",
       "       [30.576, 103.031, 33.0, 6.0, 1970022440.0],\n",
       "       [50.13, -179.5898, 7.0, 6.0, nan],\n",
       "       [52.589799999999904, -175.039999999999, 161.0, 6.1, nan],\n",
       "       [12.134, 143.706999999999, 33.0, 6.2, 1970030440.0],\n",
       "       [-19.0079999999999, 168.603, 41.0, 6.5, 1970030940.0],\n",
       "       [44.798, 148.87, 40.0, 6.0, 1970031040.0],\n",
       "       [57.39, -153.97, 16.0, 6.5, nan],\n",
       "       [-29.6529999999999, -69.49899999999991, 119.0, 6.0, 1970031540.0]],\n",
       "      dtype=object)"
      ]
     },
     "execution_count": 14,
     "metadata": {},
     "output_type": "execute_result"
    }
   ],
   "source": [
    "array[0,:] = 1\n",
    "array"
   ]
  },
  {
   "cell_type": "code",
   "execution_count": 15,
   "id": "49e9a8bc",
   "metadata": {},
   "outputs": [],
   "source": [
    "# 8- Save the final state of the array to disk. You are going to use this in the next assignment."
   ]
  },
  {
   "cell_type": "code",
   "execution_count": 16,
   "id": "f5fe5836",
   "metadata": {},
   "outputs": [],
   "source": [
    "np.save('data',array)"
   ]
  },
  {
   "cell_type": "code",
   "execution_count": 17,
   "id": "cec3cace",
   "metadata": {},
   "outputs": [],
   "source": [
    "# 9- Load the array you saved in the previous lesson from the disk."
   ]
  },
  {
   "cell_type": "code",
   "execution_count": 18,
   "id": "19afa98a",
   "metadata": {},
   "outputs": [
    {
     "data": {
      "text/plain": [
       "array([[1, 1, 1, 1, 1],\n",
       "       [-9.628, 151.458, 8.0, 6.2, 1970010640.0],\n",
       "       [-34.741, 178.568, 179.0, 6.1, 1970010840.0],\n",
       "       [6.825, 126.736999999999, 73.0, 6.1, 1970011040.0],\n",
       "       [60.28, -152.66, 85.0, 6.0, nan],\n",
       "       [-25.8, -177.348999999999, 80.0, 6.5, 1970012040.0],\n",
       "       [42.518999999999906, 142.966, 46.0, 6.4, 1970012040.0],\n",
       "       [7.017, -104.298, 33.0, 6.6, 1970012140.0],\n",
       "       [-12.579, 166.37, 50.0, 6.4, 1970012640.0],\n",
       "       [15.532, -99.48399999999991, 21.0, 6.5, 1970020440.0],\n",
       "       [12.598, 122.117, 11.0, 6.6, 1970020540.0],\n",
       "       [23.096, 100.775, 33.0, 6.1, 1970020640.0],\n",
       "       [30.576, 103.031, 33.0, 6.0, 1970022440.0],\n",
       "       [50.13, -179.5898, 7.0, 6.0, nan],\n",
       "       [52.589799999999904, -175.039999999999, 161.0, 6.1, nan],\n",
       "       [12.134, 143.706999999999, 33.0, 6.2, 1970030440.0],\n",
       "       [-19.0079999999999, 168.603, 41.0, 6.5, 1970030940.0],\n",
       "       [44.798, 148.87, 40.0, 6.0, 1970031040.0],\n",
       "       [57.39, -153.97, 16.0, 6.5, nan],\n",
       "       [-29.6529999999999, -69.49899999999991, 119.0, 6.0, 1970031540.0]],\n",
       "      dtype=object)"
      ]
     },
     "execution_count": 18,
     "metadata": {},
     "output_type": "execute_result"
    }
   ],
   "source": [
    "array2 = np.load('data.npy',allow_pickle=True)\n",
    "array2"
   ]
  },
  {
   "cell_type": "code",
   "execution_count": 19,
   "id": "22012b75",
   "metadata": {},
   "outputs": [],
   "source": [
    "# 10- Display the mean and the standard deviation for each column."
   ]
  },
  {
   "cell_type": "code",
   "execution_count": 20,
   "id": "cb1a0d01",
   "metadata": {},
   "outputs": [
    {
     "data": {
      "text/plain": [
       "(array([1.42537900e+01, 2.21156100e+01, 5.35000000e+01, 5.99000000e+00,\n",
       "        1.47751447e+09]),\n",
       " array([2.95243490e+01, 1.38403635e+02, 4.84855649e+01, 1.16528966e+00,\n",
       "        8.53043377e+08]))"
      ]
     },
     "execution_count": 20,
     "metadata": {},
     "output_type": "execute_result"
    }
   ],
   "source": [
    "array2 = array2.astype(float)\n",
    "array2[np.isnan(array2)] = 0\n",
    "np.mean(array2, axis = 0), np.std(array2, axis = 0)"
   ]
  },
  {
   "cell_type": "code",
   "execution_count": 21,
   "id": "0cee6295",
   "metadata": {},
   "outputs": [],
   "source": [
    "# 11- Subtract 1, 25, 25, 10, 4 from columns in order. (Remember it can be dobe in one line of code.)"
   ]
  },
  {
   "cell_type": "code",
   "execution_count": 22,
   "id": "38c1a1ab",
   "metadata": {},
   "outputs": [
    {
     "data": {
      "text/plain": [
       "array([[ 0.00000000e+00, -2.40000000e+01, -2.40000000e+01,\n",
       "        -9.00000000e+00, -3.00000000e+00],\n",
       "       [-1.06280000e+01,  1.26458000e+02, -1.70000000e+01,\n",
       "        -3.80000000e+00,  1.97001064e+09],\n",
       "       [-3.57410000e+01,  1.53568000e+02,  1.54000000e+02,\n",
       "        -3.90000000e+00,  1.97001084e+09],\n",
       "       [ 5.82500000e+00,  1.01737000e+02,  4.80000000e+01,\n",
       "        -3.90000000e+00,  1.97001104e+09],\n",
       "       [ 5.92800000e+01, -1.77660000e+02,  6.00000000e+01,\n",
       "        -4.00000000e+00, -4.00000000e+00],\n",
       "       [-2.68000000e+01, -2.02349000e+02,  5.50000000e+01,\n",
       "        -3.50000000e+00,  1.97001204e+09],\n",
       "       [ 4.15190000e+01,  1.17966000e+02,  2.10000000e+01,\n",
       "        -3.60000000e+00,  1.97001204e+09],\n",
       "       [ 6.01700000e+00, -1.29298000e+02,  8.00000000e+00,\n",
       "        -3.40000000e+00,  1.97001214e+09],\n",
       "       [-1.35790000e+01,  1.41370000e+02,  2.50000000e+01,\n",
       "        -3.60000000e+00,  1.97001264e+09],\n",
       "       [ 1.45320000e+01, -1.24484000e+02, -4.00000000e+00,\n",
       "        -3.50000000e+00,  1.97002044e+09],\n",
       "       [ 1.15980000e+01,  9.71170000e+01, -1.40000000e+01,\n",
       "        -3.40000000e+00,  1.97002054e+09],\n",
       "       [ 2.20960000e+01,  7.57750000e+01,  8.00000000e+00,\n",
       "        -3.90000000e+00,  1.97002064e+09],\n",
       "       [ 2.95760000e+01,  7.80310000e+01,  8.00000000e+00,\n",
       "        -4.00000000e+00,  1.97002244e+09],\n",
       "       [ 4.91300000e+01, -2.04589800e+02, -1.80000000e+01,\n",
       "        -4.00000000e+00, -4.00000000e+00],\n",
       "       [ 5.15898000e+01, -2.00040000e+02,  1.36000000e+02,\n",
       "        -3.90000000e+00, -4.00000000e+00],\n",
       "       [ 1.11340000e+01,  1.18707000e+02,  8.00000000e+00,\n",
       "        -3.80000000e+00,  1.97003044e+09],\n",
       "       [-2.00080000e+01,  1.43603000e+02,  1.60000000e+01,\n",
       "        -3.50000000e+00,  1.97003094e+09],\n",
       "       [ 4.37980000e+01,  1.23870000e+02,  1.50000000e+01,\n",
       "        -4.00000000e+00,  1.97003104e+09],\n",
       "       [ 5.63900000e+01, -1.78970000e+02, -9.00000000e+00,\n",
       "        -3.50000000e+00, -4.00000000e+00],\n",
       "       [-3.06530000e+01, -9.44990000e+01,  9.40000000e+01,\n",
       "        -4.00000000e+00,  1.97003154e+09]])"
      ]
     },
     "execution_count": 22,
     "metadata": {},
     "output_type": "execute_result"
    }
   ],
   "source": [
    "array2 -= np.array([1, 25, 25, 10, 4])\n",
    "array2"
   ]
  },
  {
   "cell_type": "code",
   "execution_count": 23,
   "id": "687e06dd",
   "metadata": {},
   "outputs": [],
   "source": [
    "# 12- Multiply each element by 2. (Remember it can be done in one line of code.)"
   ]
  },
  {
   "cell_type": "code",
   "execution_count": 26,
   "id": "55dd9e3e",
   "metadata": {},
   "outputs": [
    {
     "data": {
      "text/plain": [
       "array([[ 0.00000000e+00, -1.92000000e+02, -1.92000000e+02,\n",
       "        -7.20000000e+01, -2.40000000e+01],\n",
       "       [-8.50240000e+01,  1.01166400e+03, -1.36000000e+02,\n",
       "        -3.04000000e+01,  1.57600851e+10],\n",
       "       [-2.85928000e+02,  1.22854400e+03,  1.23200000e+03,\n",
       "        -3.12000000e+01,  1.57600867e+10],\n",
       "       [ 4.66000000e+01,  8.13896000e+02,  3.84000000e+02,\n",
       "        -3.12000000e+01,  1.57600883e+10],\n",
       "       [ 4.74240000e+02, -1.42128000e+03,  4.80000000e+02,\n",
       "        -3.20000000e+01, -3.20000000e+01],\n",
       "       [-2.14400000e+02, -1.61879200e+03,  4.40000000e+02,\n",
       "        -2.80000000e+01,  1.57600963e+10],\n",
       "       [ 3.32152000e+02,  9.43728000e+02,  1.68000000e+02,\n",
       "        -2.88000000e+01,  1.57600963e+10],\n",
       "       [ 4.81360000e+01, -1.03438400e+03,  6.40000000e+01,\n",
       "        -2.72000000e+01,  1.57600971e+10],\n",
       "       [-1.08632000e+02,  1.13096000e+03,  2.00000000e+02,\n",
       "        -2.88000000e+01,  1.57601011e+10],\n",
       "       [ 1.16256000e+02, -9.95872000e+02, -3.20000000e+01,\n",
       "        -2.80000000e+01,  1.57601635e+10],\n",
       "       [ 9.27840000e+01,  7.76936000e+02, -1.12000000e+02,\n",
       "        -2.72000000e+01,  1.57601643e+10],\n",
       "       [ 1.76768000e+02,  6.06200000e+02,  6.40000000e+01,\n",
       "        -3.12000000e+01,  1.57601651e+10],\n",
       "       [ 2.36608000e+02,  6.24248000e+02,  6.40000000e+01,\n",
       "        -3.20000000e+01,  1.57601795e+10],\n",
       "       [ 3.93040000e+02, -1.63671840e+03, -1.44000000e+02,\n",
       "        -3.20000000e+01, -3.20000000e+01],\n",
       "       [ 4.12718400e+02, -1.60032000e+03,  1.08800000e+03,\n",
       "        -3.12000000e+01, -3.20000000e+01],\n",
       "       [ 8.90720000e+01,  9.49656000e+02,  6.40000000e+01,\n",
       "        -3.04000000e+01,  1.57602435e+10],\n",
       "       [-1.60064000e+02,  1.14882400e+03,  1.28000000e+02,\n",
       "        -2.80000000e+01,  1.57602475e+10],\n",
       "       [ 3.50384000e+02,  9.90960000e+02,  1.20000000e+02,\n",
       "        -3.20000000e+01,  1.57602483e+10],\n",
       "       [ 4.51120000e+02, -1.43176000e+03, -7.20000000e+01,\n",
       "        -2.80000000e+01, -3.20000000e+01],\n",
       "       [-2.45224000e+02, -7.55992000e+02,  7.52000000e+02,\n",
       "        -3.20000000e+01,  1.57602523e+10]])"
      ]
     },
     "execution_count": 26,
     "metadata": {},
     "output_type": "execute_result"
    }
   ],
   "source": [
    "array2*=2\n",
    "array2"
   ]
  },
  {
   "cell_type": "code",
   "execution_count": null,
   "id": "1ee005c6",
   "metadata": {},
   "outputs": [],
   "source": []
  }
 ],
 "metadata": {
  "kernelspec": {
   "display_name": "Python 3 (ipykernel)",
   "language": "python",
   "name": "python3"
  },
  "language_info": {
   "codemirror_mode": {
    "name": "ipython",
    "version": 3
   },
   "file_extension": ".py",
   "mimetype": "text/x-python",
   "name": "python",
   "nbconvert_exporter": "python",
   "pygments_lexer": "ipython3",
   "version": "3.9.12"
  }
 },
 "nbformat": 4,
 "nbformat_minor": 5
}
