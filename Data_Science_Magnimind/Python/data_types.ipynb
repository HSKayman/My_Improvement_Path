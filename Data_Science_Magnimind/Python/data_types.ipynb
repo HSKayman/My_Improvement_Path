{
 "cells": [
  {
   "cell_type": "code",
   "execution_count": 1,
   "id": "e004610f",
   "metadata": {},
   "outputs": [],
   "source": [
    "# 1. Ask the user to enter their first name and surname in lower case. \n",
    "# Change the case to title case and join them together. Display the finished result."
   ]
  },
  {
   "cell_type": "code",
   "execution_count": 2,
   "id": "679f85d1",
   "metadata": {},
   "outputs": [
    {
     "name": "stdout",
     "output_type": "stream",
     "text": [
      "Please Type Your Name(lower case): hasan\n",
      "Please Type Your Surname(lower case): kayman\n",
      "Hasan Kayman\n"
     ]
    }
   ],
   "source": [
    "name = input(\"Please Type Your Name(lower case): \")\n",
    "surname = input(\"Please Type Your Surname(lower case): \")\n",
    "print(\"{}\".format(name.capitalize()+\" \"+surname.capitalize()))"
   ]
  },
  {
   "cell_type": "code",
   "execution_count": 3,
   "id": "f958d0f9",
   "metadata": {},
   "outputs": [],
   "source": [
    "# 2. Ask the user to type in the first line of a poem Raven by Edgar Allen Poe and display the length of the string. Ask for a  # starting number and an ending number and then display just that section of the text (remember Python starts counting from 0 # # and not \n",
    "# 1). Here is the poem Raven:\n",
    "# Deep into that darkness peering,\n",
    "# Long I stood there, wondering, fearing,\n",
    "# Doubting, dreaming dreams no mortals\n",
    "# Ever dared to dream before;\n",
    "# But the silence was unbroken,\n",
    "# And the stillness gave no token,\n",
    "# And the only word there spoken\n",
    "# Was the whispered word, \"Lenore!\"\n",
    "# This I whispered, and an echo\n",
    "# Murmured back the word, \"Lenore!\"\n",
    "# Merely this, and nothing more."
   ]
  },
  {
   "cell_type": "code",
   "execution_count": 4,
   "id": "1ddec4ed",
   "metadata": {},
   "outputs": [
    {
     "name": "stdout",
     "output_type": "stream",
     "text": [
      "Type in the first line of a poem Raven by Edgar Allen Poe: Deep into that darkness peering,\n",
      "Enter the starting number: 1\n",
      "Enter the ending number: 10\n",
      "Deep into \n"
     ]
    }
   ],
   "source": [
    "first_line = input(\"Type in the first line of a poem Raven by Edgar Allen Poe: \")\n",
    "check = True\n",
    "while(check):\n",
    "    try:\n",
    "        starting_number = int(input(\"Enter the starting number: \"))\n",
    "        ending_number = int(input(\"Enter the ending number: \"))\n",
    "        if starting_number >= ending_number or starting_number >= len(first_line) or ending_number > len(first_line):\n",
    "            check = True\n",
    "            print(\"Please enter the correct starting and ending number\")\n",
    "        else:\n",
    "            check = False\n",
    "    except Exception as e:\n",
    "\n",
    "        print(\"{}\\nPlease enter the correct starting and ending number\".format(e))\n",
    "\n",
    "print(\"{}\".format(first_line[starting_number-1:ending_number]))"
   ]
  },
  {
   "cell_type": "code",
   "execution_count": 5,
   "id": "c533beb1",
   "metadata": {},
   "outputs": [],
   "source": [
    "# 3. Removes extra characters from the start and end of a string and \n",
    "# explain why you need to remove white spaces while exploring text.\n",
    "# The reason why we remove it is because Python process these white space \n",
    "# and if we have no idea about white spaces, there cannot properly process the text."
   ]
  },
  {
   "cell_type": "code",
   "execution_count": 6,
   "id": "c78d9209",
   "metadata": {},
   "outputs": [
    {
     "name": "stdout",
     "output_type": "stream",
     "text": [
      "Deep into that darkness peering,\n"
     ]
    }
   ],
   "source": [
    "print(\"{}\".format(first_line.strip()))"
   ]
  },
  {
   "cell_type": "code",
   "execution_count": null,
   "id": "43106361",
   "metadata": {},
   "outputs": [],
   "source": []
  }
 ],
 "metadata": {
  "kernelspec": {
   "display_name": "Python 3 (ipykernel)",
   "language": "python",
   "name": "python3"
  },
  "language_info": {
   "codemirror_mode": {
    "name": "ipython",
    "version": 3
   },
   "file_extension": ".py",
   "mimetype": "text/x-python",
   "name": "python",
   "nbconvert_exporter": "python",
   "pygments_lexer": "ipython3",
   "version": "3.9.12"
  }
 },
 "nbformat": 4,
 "nbformat_minor": 5
}
